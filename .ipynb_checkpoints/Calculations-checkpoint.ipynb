{
 "cells": [
  {
   "cell_type": "markdown",
   "id": "81ba2432-2d1c-451e-9422-9b1e40d40fbf",
   "metadata": {},
   "source": [
    "# Calculations For Greenspace & Crime\n",
    "This project uses three endpoints from the Seattle Open Data API. A brief explaination of these endpoints is as follows:\n",
    "- [**Seattle Neighborhood**](https://data-seattlecitygis.opendata.arcgis.com/datasets/SeattleCityGIS::city-clerk-neighborhoods/about) a database that gives the geo coordinates for the different neighborhoods within Seattle   \n",
    "- [**Seattle Public Spaces**](https://data-seattlecitygis.opendata.arcgis.com/datasets/SeattleCityGIS::publicspaceseattle-entrypts/explore?location=47.611555%2C-122.355840%2C11.46) an overview of parks in Seattle which are open to the public and contain more information about what activites are present there. \n",
    "- [**SPD Crime Data 2008 - Present**](https://data.seattle.gov/Public-Safety/SPD-Crime-Data-2008-Present/tazs-3rd5) which tracks the crime in Seattle. This is to discovery what the crime rates are like, and what times of crime happen in which neighborhoods. I will be focusing on data from 2022\n",
    "---\n",
    "**Step 0:** We begin by importing all the neccesary functionality we need for this project including tools for mapping, and api calling. We then set critical global variables such as api endpoints and the number of entries that each of these calls returns. You may need to run 'pip install geopandas' in the terminal for this to run properly."
   ]
  },
  {
   "cell_type": "code",
   "execution_count": 1,
   "id": "23a67174-45c4-4a6a-bd35-cf74dea30b8a",
   "metadata": {},
   "outputs": [],
   "source": [
    "#download request library, a bundle of code for APIs\n",
    "import requests\n",
    "import json\n",
    "from pprint import pprint\n",
    "import pandas as pd\n",
    "import geopandas as gpd\n",
    "import matplotlib.pyplot as plt\n",
    "from shapely.geometry import Point, Polygon, MultiPolygon, shape, Point\n",
    "import csv\n",
    "from pandas.io.json import json_normalize\n",
    "import plotly.graph_objects as go\n",
    "from shapely import geometry \n",
    "from shapely.geometry.multipolygon import MultiPolygon\n",
    "from shapely.geometry import shape\n",
    "from geopandas import GeoSeries\n",
    "import plotly.graph_objects as go\n",
    "import plotly.express as px\n",
    "\n",
    "#api endpoints\n",
    "greenspace_endpoint = \"https://services.arcgis.com/ZOyb2t4B0UYuYNYH/arcgis/rest/services/Public_and_Open_Spaces_in_Seattle_WFL1/FeatureServer/0/query?outFields=*&where=1%3D1&f=geojson\"\n",
    "crime_endpoint = \"https://data.seattle.gov/resource/tazs-3rd5.json\"\n",
    "neighborhood_endpoint = \"https://services.arcgis.com/ZOyb2t4B0UYuYNYH/arcgis/rest/services/nma_nhoods_main/FeatureServer/0/query?outFields=*&where=1%3D1&f=geojson\"\n",
    "\n",
    "#the number of entries for each api \n",
    "greenspace_limit = 3614\n",
    "crime_limit = 997000"
   ]
  },
  {
   "cell_type": "markdown",
   "id": "983ff68e-ba60-4381-b1df-afffd306c44f",
   "metadata": {
    "tags": []
   },
   "source": [
    "## Section 1 - Calling The APIs & Sorting Data\n",
    "**Step 1:** Queries Seattle Neighborhood Database. This code creates a \"hood_counts\" dictionary to track all the information from the endpoint about crime counts, crime types, park counts, park ratings, geographic information about the nieghborhoods. "
   ]
  },
  {
   "cell_type": "code",
   "execution_count": 2,
   "id": "8607e9c0-486d-4f8d-818d-2ef24d662820",
   "metadata": {
    "tags": []
   },
   "outputs": [],
   "source": [
    "hood_counts = {}\n",
    "hoods = requests.get(neighborhood_endpoint)\n",
    "hood_data = hoods.json()\n",
    "for hood in hood_data['features']:\n",
    "    hood_name = hood['properties']['L_HOOD']\n",
    "    if hood['geometry']['type'] == \"Polygon\":\n",
    "        p1 = Polygon(hood['geometry']['coordinates'][0])\n",
    "        polygon = GeoSeries([p1])\n",
    "    elif hood['geometry']['type'] == 'MultiPolygon':    \n",
    "        poly: Polygon = shape(hood['geometry'])\n",
    "        polygon = GeoSeries(poly)\n",
    "    hood_counts[hood_name] = {}\n",
    "    hood_counts[hood_name]['geometry'] = polygon\n",
    "    hood_counts[hood_name]['crime_count'] = 0 \n",
    "    hood_counts[hood_name]['park_count'] = 0\n",
    "    hood_counts[hood_name]['park_ratings'] = {}\n",
    "    hood_counts[hood_name]['average_park_rating'] = 0 "
   ]
  },
  {
   "cell_type": "markdown",
   "id": "f4dc4840-c648-49c3-b372-64c3c63a231e",
   "metadata": {},
   "source": [
    "**Step 2:** Queries Seattle Public Spaces Database. Then, we loop through the neighborhoods and their geolocation from step 1 while also looping through the data gathered from the Seattle Public Spaces Database. If the park is open, public and contains either forest or greensapce, we create a shapely point based on the longitude and latitude of the greenspace and check to see which neighborhood it belongs in. Then, in the hood_counts dictionary at the neighborhood it is inside of, we add the values for rating of this park, the name of the park, and the count of the parks within the given neighborhood. "
   ]
  },
  {
   "cell_type": "code",
   "execution_count": 3,
   "id": "f8f10662-7d49-401b-81af-0dd477899c41",
   "metadata": {
    "tags": []
   },
   "outputs": [],
   "source": [
    "#retrieves all data from the art endpoint and creates a dictionary that lists the name, date \n",
    "#and point of all art projects and counts the number of pieces that do not fit this data criteria \n",
    "space_limits = {\"$limit\" : greenspace_limit}\n",
    "spacey = requests.get(greenspace_endpoint, params= space_limits)\n",
    "space_data = spacey.json()\n",
    "total_parks = 0\n",
    "space_list = space_data['features']\n",
    "for hood in hood_data['features']:\n",
    "    hood_name = hood['properties']['L_HOOD']\n",
    "    polygon = shape(hood['geometry'])\n",
    "    for space in space_list:\n",
    "        if space['properties']['PUB_PRV'] == \"PUBLIC\" and space['properties']['STATUS'] == \"OPEN\": \n",
    "            if (space['properties']['GREENSPACE'] == \"Y\" or space['properties']['NATURAL'] == \"Y\"):\n",
    "                longitude = space['geometry']['coordinates'][0]\n",
    "                latitude = space['geometry']['coordinates'][1]\n",
    "                tier = space['properties']['TIER']\n",
    "                name = space['properties']['AREA_NAME']\n",
    "                point = Point (float(longitude), float(latitude))\n",
    "                if polygon.contains(point):\n",
    "                    total_parks += 1\n",
    "                    if tier not in hood_counts[hood_name]['park_ratings'].keys():\n",
    "                        hood_counts[hood_name]['park_ratings'][tier] = 1\n",
    "                    else: \n",
    "                        hood_counts[hood_name]['park_ratings'][tier] =  hood_counts[hood_name]['park_ratings'][tier] + 1\n",
    "                    hood_counts[hood_name]['park_count'] += 1         "
   ]
  },
  {
   "cell_type": "markdown",
   "id": "723ca5d4-25eb-49e6-9eb3-d4f14a7381e7",
   "metadata": {
    "tags": []
   },
   "source": [
    "**Step 3:** Queries Seattle Crime Database. Then, we loop through the neighborhoods and their geolocation from step 1 while also looping through the data gathered from the Seattle Public Spaces Database. If the crime is within the last 5 years (2017 - 2022), we create a shapely point based on the longitude and latitude of the crime and check to see which neighborhood it belongs in. Then, in the hood_counts dictionary at the neighborhood it is inside of, we add the values for type of crime, and the count of the crime incidences within the given neighborhood. "
   ]
  },
  {
   "cell_type": "code",
   "execution_count": 5,
   "id": "6b7f76ef-55b2-4d94-8a1c-0031508ac8c4",
   "metadata": {
    "tags": []
   },
   "outputs": [
    {
     "ename": "TypeError",
     "evalue": "string indices must be integers",
     "output_type": "error",
     "traceback": [
      "\u001b[0;31m---------------------------------------------------------------------------\u001b[0m",
      "\u001b[0;31mTypeError\u001b[0m                                 Traceback (most recent call last)",
      "\u001b[0;32m/tmp/ipykernel_405/1753734250.py\u001b[0m in \u001b[0;36m<module>\u001b[0;34m\u001b[0m\n\u001b[1;32m     11\u001b[0m         \u001b[0mhood_name\u001b[0m \u001b[0;34m=\u001b[0m \u001b[0mhood\u001b[0m\u001b[0;34m[\u001b[0m\u001b[0;34m'properties'\u001b[0m\u001b[0;34m]\u001b[0m\u001b[0;34m[\u001b[0m\u001b[0;34m'L_HOOD'\u001b[0m\u001b[0;34m]\u001b[0m\u001b[0;34m\u001b[0m\u001b[0;34m\u001b[0m\u001b[0m\n\u001b[1;32m     12\u001b[0m         \u001b[0mpolygon\u001b[0m \u001b[0;34m=\u001b[0m \u001b[0mshape\u001b[0m\u001b[0;34m(\u001b[0m\u001b[0mhood\u001b[0m\u001b[0;34m[\u001b[0m\u001b[0;34m'geometry'\u001b[0m\u001b[0;34m]\u001b[0m\u001b[0;34m)\u001b[0m\u001b[0;34m\u001b[0m\u001b[0;34m\u001b[0m\u001b[0m\n\u001b[0;32m---> 13\u001b[0;31m         \u001b[0mpoint\u001b[0m \u001b[0;34m=\u001b[0m \u001b[0mPoint\u001b[0m\u001b[0;34m(\u001b[0m\u001b[0mfloat\u001b[0m\u001b[0;34m(\u001b[0m\u001b[0mc\u001b[0m\u001b[0;34m[\u001b[0m\u001b[0;34m'Longitude'\u001b[0m\u001b[0;34m]\u001b[0m\u001b[0;34m)\u001b[0m\u001b[0;34m,\u001b[0m \u001b[0mfloat\u001b[0m\u001b[0;34m(\u001b[0m\u001b[0mc\u001b[0m\u001b[0;34m[\u001b[0m\u001b[0;34m'Latitude'\u001b[0m\u001b[0;34m]\u001b[0m\u001b[0;34m)\u001b[0m\u001b[0;34m)\u001b[0m\u001b[0;34m\u001b[0m\u001b[0;34m\u001b[0m\u001b[0m\n\u001b[0m\u001b[1;32m     14\u001b[0m         \u001b[0;32mif\u001b[0m \u001b[0mpolygon\u001b[0m\u001b[0;34m.\u001b[0m\u001b[0mcontains\u001b[0m\u001b[0;34m(\u001b[0m\u001b[0mpoint\u001b[0m\u001b[0;34m)\u001b[0m\u001b[0;34m:\u001b[0m\u001b[0;34m\u001b[0m\u001b[0;34m\u001b[0m\u001b[0m\n\u001b[1;32m     15\u001b[0m             \u001b[0mhood_counts\u001b[0m\u001b[0;34m[\u001b[0m\u001b[0mhood_name\u001b[0m\u001b[0;34m]\u001b[0m\u001b[0;34m[\u001b[0m\u001b[0;34m'crime_count'\u001b[0m\u001b[0;34m]\u001b[0m \u001b[0;34m+=\u001b[0m \u001b[0;36m1\u001b[0m\u001b[0;34m\u001b[0m\u001b[0;34m\u001b[0m\u001b[0m\n",
      "\u001b[0;31mTypeError\u001b[0m: string indices must be integers"
     ]
    }
   ],
   "source": [
    "#retrieves all data from the art endpoint and creates a dictionary that lists the name, date \n",
    "#and point of all art projects and counts the number of pieces that do not fit this data criteria \n",
    "crime_limits = {\"$select\" :\"report_datetime, Offense_ID, Offense_Parent_Group, MCPP, Offense, Longitude, Latitude\", \n",
    "                \"$where\" : \"report_datetime > '2021-01-01T00:00:00'\",              \n",
    "                \"$limit\": crime_limit #change\n",
    "               }           \n",
    "crime_end = requests.get(crime_endpoint, params = crime_limits)\n",
    "crime_data = crime_end.json()\n",
    "for c in crime_data:\n",
    "    for hood in hood_data['features']:\n",
    "        hood_name = hood['properties']['L_HOOD']\n",
    "        polygon = shape(hood['geometry'])\n",
    "        point = Point(float(c['Longitude']), float(c['Latitude']))\n",
    "        if polygon.contains(point):\n",
    "            hood_counts[hood_name]['crime_count'] += 1"
   ]
  },
  {
   "cell_type": "markdown",
   "id": "d10c72a8-954c-4eb5-8cf6-56529f2929cc",
   "metadata": {
    "tags": []
   },
   "source": [
    "**Step 4:** Loops through hood_counts to calculate average park rating for each neighborhood"
   ]
  },
  {
   "cell_type": "code",
   "execution_count": null,
   "id": "ebedec47-fb9f-4dbc-9226-6ef092b41f7c",
   "metadata": {
    "tags": []
   },
   "outputs": [],
   "source": [
    "for hood in hood_counts:\n",
    "    total_rating = 0\n",
    "    num_ratings = 0\n",
    "    for rating in hood_counts[hood]['park_ratings']:\n",
    "        rating_sum = int(rating) * hood_counts[hood]['park_ratings'][rating]\n",
    "        num_ratings += hood_counts[hood]['park_ratings'][rating]\n",
    "        total_rating = total_rating + rating_sum \n",
    "        hood_counts[hood]['average_park_rating'] = total_rating/num_ratings\n",
    "print(hood_counts)"
   ]
  },
  {
   "cell_type": "markdown",
   "id": "a95d71dd-89f4-4a67-ab6c-e03fe7e22194",
   "metadata": {
    "tags": []
   },
   "source": [
    "**Step 5:** creates dict hood_percentages which creates a key for crime_percent and an key for park_percent, which takes the total number of crimes and parks for each neighborhoods and divides it by the total number of crimes and parks overall. Then, it creates two lists based on whether the percentage of parks or crime is greater for each neighborhood. These lists assoicate the neighborhood with the average park rating. The final value of these dictionaries is the average of all ratings within the given value of more parks than crime, or more crime than parks. "
   ]
  },
  {
   "cell_type": "code",
   "execution_count": null,
   "id": "fd11887b-5c0e-46bf-9da3-52a89f277b8b",
   "metadata": {},
   "outputs": [],
   "source": [
    "#dict that tracks the percent of crimes and ratings\n",
    "hood_percentages = {}\n",
    "crime_total = 0\n",
    "park_total = 0\n",
    "\n",
    "#creates lists that \n",
    "low_crime_high_park = []\n",
    "high_crime_low_park = []\n",
    "low_crime_high_park_rating_sum = 0\n",
    "high_crime_low_park_rating_sum = 0\n",
    "\n",
    "for hood in hood_counts:\n",
    "    crime_total += hood_counts[hood]['crime_count']\n",
    "    park_total += hood_counts[hood]['park_count']\n",
    "\n",
    "for hood in hood_counts:\n",
    "    hood_percentages[hood] = {}\n",
    "    hood_percentages[hood]['crime_percent'] = round(((hood_counts[hood]['crime_count'] / crime_total) * 100),2)\n",
    "    hood_percentages[hood]['park_percent'] = round(((hood_counts[hood]['park_count'] / park_total) * 100),2)\n",
    "    if hood_percentages[hood]['crime_percent'] < hood_percentages[hood]['park_percent']:\n",
    "        low_crime_high_park.append({hood: hood_counts[hood]['average_park_rating']})\n",
    "        low_crime_high_park_rating_sum += hood_counts[hood]['average_park_rating']\n",
    "    else:\n",
    "        high_crime_low_park.append({hood: hood_counts[hood]['average_park_rating']})\n",
    "        high_crime_low_park_rating_sum += hood_counts[hood]['average_park_rating']\n",
    "\n",
    "low_crime_high_park_rating_sum = low_crime_high_park_rating_sum / len(low_crime_high_park)\n",
    "high_crime_low_park_rating_sum= high_crime_low_park_rating_sum / len(high_crime_low_park)\n",
    "low_crime_high_park.append({'Average': low_crime_high_park_rating_sum})\n",
    "high_crime_low_park.append({'Average' : high_crime_low_park_rating_sum})"
   ]
  },
  {
   "cell_type": "markdown",
   "id": "0455e31b-85da-40b9-be23-c459d311337d",
   "metadata": {
    "tags": []
   },
   "source": [
    "## Section 2: Data Analysis\n",
    "### RQ1: Do areas with more greenspace have less crime?\n",
    "**Step 0:** Creates a graph for all neighborhoods that shows the number of parks and the amount of crime for a given neighborhood. "
   ]
  },
  {
   "cell_type": "code",
   "execution_count": null,
   "id": "3929f6ea-ae25-4a53-943a-6c6829cf1496",
   "metadata": {},
   "outputs": [],
   "source": [
    "Hood = []\n",
    "Type = []\n",
    "Count = []\n",
    "for hood in hood_counts:\n",
    "    Hood.append(hood)\n",
    "    Hood.append(hood)\n",
    "    Type.append(\"park count\")\n",
    "    Count.append(hood_counts[hood][\"park_count\"])\n",
    "    Type.append(\"crime count\")\n",
    "    Count.append(hood_counts[hood][\"crime_count\"])\n",
    "df = pd.DataFrame({\n",
    "    \"Hood\": Hood,\n",
    "    \"Type\": Type,\n",
    "    \"Count\": Count\n",
    "})\n",
    "fig = px.bar(df, x=\"Hood\", y=\"Count\", color='Type', barmode=\"group\", title=\"Neighborhood Breakdown:Crime and Parks\")\n",
    "fig.show()"
   ]
  },
  {
   "cell_type": "markdown",
   "id": "7f5b06e4-916e-4022-97f1-1047c0fc9fcc",
   "metadata": {},
   "source": [
    "**Step 1:** Creates a graph for all neighborhoods that shows the percentage of overall parks that exist within a give neigborhood and the percentage of overall crime within a given neighborhood."
   ]
  },
  {
   "cell_type": "code",
   "execution_count": null,
   "id": "b5744a59-9cd1-4dfc-a7bc-fc23feafe934",
   "metadata": {
    "tags": []
   },
   "outputs": [],
   "source": [
    "Hood = []\n",
    "Type = []\n",
    "Count = []\n",
    "for hood in hood_percentages:\n",
    "    Hood.append(hood)\n",
    "    Hood.append(hood)\n",
    "    Type.append(\"park percent\")\n",
    "    Count.append(hood_percentages[hood][\"park_percent\"])\n",
    "    Type.append(\"crime percent\")\n",
    "    Count.append(hood_percentages[hood][\"crime_percent\"])\n",
    "df = pd.DataFrame({\n",
    "    \"Hood\": Hood,\n",
    "    \"Type\": Type,\n",
    "    \"Percentage\": Count\n",
    "})\n",
    "fig = px.bar(df, x=\"Hood\", y=\"Percentage\", color='Type', barmode=\"group\", title=\"Neighborhood Breakdown: Percentage of Overall Crime and Parks\")\n",
    "fig.show()"
   ]
  },
  {
   "cell_type": "markdown",
   "id": "654535a1-40e2-43a5-9dcb-fb262589cbc4",
   "metadata": {},
   "source": [
    "**Step 2:** Creates a graph for neighborhoods which have a greater percentage of overall crime than overall parks. Like in step 1, this graph shows the percentage of overall parks that exist within a give neigborhood and the percentage of overall crime within a given neighborhood. "
   ]
  },
  {
   "cell_type": "code",
   "execution_count": null,
   "id": "9268d692-cae8-4c75-aec8-191b69c4d97a",
   "metadata": {},
   "outputs": [],
   "source": [
    "Hood = []\n",
    "Type = []\n",
    "Count = []\n",
    "for i in high_crime_low_park:\n",
    "    for hood in i:\n",
    "        if hood != 'Average':\n",
    "            Hood.append(hood)\n",
    "            Hood.append(hood)\n",
    "            Type.append(\"park percent\")\n",
    "            Count.append(hood_percentages[hood][\"park_percent\"])\n",
    "            Type.append(\"crime percent\")\n",
    "            Count.append(hood_percentages[hood][\"crime_percent\"])\n",
    "df = pd.DataFrame({\n",
    "    \"Hood\": Hood,\n",
    "    \"Type\": Type,\n",
    "    \"Percentage\": Count\n",
    "})\n",
    "fig = px.bar(df, x=\"Hood\", y=\"Percentage\", color='Type', barmode=\"group\", title=\"High Crime Breakdown: Percentage of Overall Crime and Parks\")\n",
    "fig.show()   "
   ]
  },
  {
   "cell_type": "markdown",
   "id": "95ea2583-947f-4c53-8251-fb38346a5089",
   "metadata": {
    "tags": []
   },
   "source": [
    "**Step 3:**  Creates a graph for neighborhoods which have a greater percentage of overall parks than overall crime. Like in step 1, this graph shows the percentage of overall parks that exist within a give neigborhood and the percentage of overall crime within a given neighborhood. "
   ]
  },
  {
   "cell_type": "code",
   "execution_count": null,
   "id": "6968a6cc-f7aa-4f2e-9f83-6b5d397f3131",
   "metadata": {
    "tags": []
   },
   "outputs": [],
   "source": [
    "Hood = []\n",
    "Type = []\n",
    "Count = []\n",
    "for i in low_crime_high_park:\n",
    "    for hood in i:\n",
    "        if hood != 'Average':\n",
    "            Hood.append(hood)\n",
    "            Hood.append(hood)\n",
    "            Type.append(\"park percent\")\n",
    "            Count.append(hood_percentages[hood][\"park_percent\"])\n",
    "            Type.append(\"crime percent\")\n",
    "            Count.append(hood_percentages[hood][\"crime_percent\"])\n",
    "df = pd.DataFrame({\n",
    "    \"Hood\": Hood,\n",
    "    \"Type\": Type,\n",
    "    \"Percentage\": Count\n",
    "})\n",
    "fig = px.bar(df, x=\"Hood\", y=\"Percentage\", color='Type', barmode=\"group\", title=\"High Park Breakdown: Percentage of Overall Crime and Parks\")\n",
    "fig.show()  "
   ]
  },
  {
   "cell_type": "markdown",
   "id": "7c00de1f-755c-4c4b-892a-e4fee1205adc",
   "metadata": {
    "tags": []
   },
   "source": [
    "### RQ2 - Does the the quality of parks in the area affect the amount of crime? "
   ]
  },
  {
   "cell_type": "markdown",
   "id": "b29b7ae1-466c-4eab-9c21-4323203401f5",
   "metadata": {
    "tags": []
   },
   "source": [
    "**Step 1:** Creates a graph that represents the average park rating and compares this average rating across neighborhoods with a higher percentage of overall crime than parks vs. neighborhoods with a higher percentage of overall parks than crime. "
   ]
  },
  {
   "cell_type": "code",
   "execution_count": null,
   "id": "dcd4dc53-9a57-433d-a721-4c032c5a62b4",
   "metadata": {
    "tags": []
   },
   "outputs": [],
   "source": [
    "Hood = ['Higher Percentage of Crime', ' Higher Percentage of Parks']\n",
    "Type = ['High Crime Area Park Rating', 'Low Crime Area Park Rating']\n",
    "Count = [high_crime_low_park[len(high_crime_low_park) - 1]['Average'],low_crime_high_park[len(low_crime_high_park) - 1]['Average']]\n",
    "df =  pd.DataFrame({\n",
    "    \"Percentage of Crime v. Greenspace\": Hood,\n",
    "    \"Type\": Type,\n",
    "    \"Average Park Rating\": Count\n",
    "})\n",
    "fig = px.bar(df, x=\"Percentage of Crime v. Greenspace\", y=\"Average Park Rating\", barmode=\"group\", title=\"Average Park Rating Based on Distribution of Parks and Crime\")\n",
    "fig.show()"
   ]
  },
  {
   "cell_type": "code",
   "execution_count": null,
   "id": "9e9f851e-64c6-4504-9ce6-25aef5072a2e",
   "metadata": {},
   "outputs": [],
   "source": []
  }
 ],
 "metadata": {
  "kernelspec": {
   "display_name": "Python 3 (ipykernel)",
   "language": "python",
   "name": "python3"
  },
  "language_info": {
   "codemirror_mode": {
    "name": "ipython",
    "version": 3
   },
   "file_extension": ".py",
   "mimetype": "text/x-python",
   "name": "python",
   "nbconvert_exporter": "python",
   "pygments_lexer": "ipython3",
   "version": "3.9.7"
  }
 },
 "nbformat": 4,
 "nbformat_minor": 5
}
