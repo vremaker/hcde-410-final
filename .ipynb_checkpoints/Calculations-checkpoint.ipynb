{
 "cells": [
  {
   "cell_type": "markdown",
   "id": "81ba2432-2d1c-451e-9422-9b1e40d40fbf",
   "metadata": {},
   "source": [
    "# Calculations For Greenspace & Crime\n",
    "This project uses three endpoints from the Seattle Open Data API. A brief explaination of these endpoints is as follows:\n",
    "- [**Seattle Neighborhood**](https://data-seattlecitygis.opendata.arcgis.com/datasets/SeattleCityGIS::city-clerk-neighborhoods/about) a database that gives the geo coordinates for the different neighborhoods within Seattle   \n",
    "- [**Seattle Public Spaces**](https://data-seattlecitygis.opendata.arcgis.com/datasets/SeattleCityGIS::publicspaceseattle-entrypts/explore?location=47.611555%2C-122.355840%2C11.46) which is an overview of parks in Seattle which are open to the public and contain more information about what activites are present there. \n",
    "- [**SPD Crime Data 2008 - Present**](https://data.seattle.gov/Public-Safety/SPD-Crime-Data-2008-Present/tazs-3rd5) which tracks the crime in Seattle. This is to discovery what the crime rates are like, and what times of crime happen in which neighborhoods. Is there any correlation to the type of art and type of crime? Or amount of art/cutlure and amount of crime? I will be focusing on data from after 2017, to focus on the last 5 years of crime in the Seattle Area\n",
    "---\n",
    "**Step 0:** We begin by importing all the neccesary functionality we need for this project including tools for mapping, and api calling. We then set critical global variables such as api endpoints and the number of entries that each of these calls returns. You may need to run 'pip install geopandas' in the terminal for this to run properly."
   ]
  },
  {
   "cell_type": "code",
   "execution_count": 52,
   "id": "23a67174-45c4-4a6a-bd35-cf74dea30b8a",
   "metadata": {},
   "outputs": [],
   "source": [
    "#download request library, a bundle of code for APIs\n",
    "import requests\n",
    "import json\n",
    "from pprint import pprint\n",
    "import pandas as pd\n",
    "import geopandas as gpd\n",
    "import matplotlib.pyplot as plt\n",
    "from shapely.geometry import Point, Polygon, MultiPolygon, shape, Point\n",
    "import csv\n",
    "from pandas.io.json import json_normalize\n",
    "import plotly.graph_objects as go\n",
    "from shapely import geometry \n",
    "from shapely.geometry.multipolygon import MultiPolygon\n",
    "from shapely.geometry import shape\n",
    "from geopandas import GeoSeries\n",
    "import plotly.graph_objects as go\n",
    "import plotly.express as px\n",
    "\n",
    "#api endpoints\n",
    "greenspace_endpoint = \"https://services.arcgis.com/ZOyb2t4B0UYuYNYH/arcgis/rest/services/Public_and_Open_Spaces_in_Seattle_WFL1/FeatureServer/0/query?outFields=*&where=1%3D1&f=geojson\"\n",
    "crime_endpoint = \"https://data.seattle.gov/resource/tazs-3rd5.json\"\n",
    "neighborhood_endpoint = \"https://services.arcgis.com/ZOyb2t4B0UYuYNYH/arcgis/rest/services/nma_nhoods_main/FeatureServer/0/query?outFields=*&where=1%3D1&f=geojson\"\n",
    "\n",
    "#the number of entries for each api \n",
    "greenspace_limit = 3614\n",
    "crime_limit = 997000"
   ]
  },
  {
   "cell_type": "markdown",
   "id": "983ff68e-ba60-4381-b1df-afffd306c44f",
   "metadata": {
    "tags": []
   },
   "source": [
    "## Section 1 - Calling The APIs & Formatting Hood_counts\n",
    "**Step 1:** Queries Seattle Neighborhood Database. This code creates a \"hood_counts\" dictionary to track all the information from the endpoint about crime counts, crime types, park counts, park ratings, geographic information about the nieghborhoods. "
   ]
  },
  {
   "cell_type": "code",
   "execution_count": 53,
   "id": "8607e9c0-486d-4f8d-818d-2ef24d662820",
   "metadata": {
    "tags": []
   },
   "outputs": [],
   "source": [
    "hood_counts = {}\n",
    "hoods = requests.get(neighborhood_endpoint)\n",
    "hood_data = hoods.json()\n",
    "for hood in hood_data['features']:\n",
    "    hood_name = hood['properties']['L_HOOD']\n",
    "    #rint(hood_name + \" \" + str(len(hood['geometry']['coordinates'][0])))\n",
    "    if hood['geometry']['type'] == \"Polygon\":\n",
    "        p1 = Polygon(hood['geometry']['coordinates'][0])\n",
    "        polygon = GeoSeries([p1])\n",
    "    elif hood['geometry']['type'] == 'MultiPolygon':    \n",
    "        #polygon = Polygon([tuple(1) for 1 in hood['geometry']['coordinates'][0]])\n",
    "        poly: Polygon = shape(hood['geometry'])\n",
    "        polygon = GeoSeries(poly)\n",
    "    hood_counts[hood_name] = {}\n",
    "    hood_counts[hood_name]['geometry'] = polygon\n",
    "    hood_counts[hood_name]['most_common_crime'] = \"\"\n",
    "    hood_counts[hood_name]['crime_count'] = 0 \n",
    "    #hood_counts[hood_name]['crime_types'] = {}\n",
    "    hood_counts[hood_name]['park_count'] = 0\n",
    "    hood_counts[hood_name]['park_ratings'] = {}\n",
    "    hood_counts[hood_name]['average_park_rating'] = 0 "
   ]
  },
  {
   "cell_type": "markdown",
   "id": "f4dc4840-c648-49c3-b372-64c3c63a231e",
   "metadata": {},
   "source": [
    "**Step 2:** Queries Seattle Public Spaces Database. Then, we loop through the neighborhoods and their geolocation from step 1 while also looping through the data gathered from the Seattle Public Spaces Database. If the park is open, public and contains either forest or greensapce, we create a shapely point based on the longitude and latitude of the greenspace and check to see which neighborhood it belongs in. Then, in the hood_counts dictionary at the neighborhood it is inside of, we add the values for rating of this park, the name of the park, and the count of the parks within the given neighborhood. "
   ]
  },
  {
   "cell_type": "code",
   "execution_count": 54,
   "id": "f8f10662-7d49-401b-81af-0dd477899c41",
   "metadata": {
    "tags": []
   },
   "outputs": [],
   "source": [
    "#retrieves all data from the art endpoint and creates a dictionary that lists the name, date \n",
    "#and point of all art projects and counts the number of pieces that do not fit this data criteria \n",
    "space_limits = {\"$limit\" : greenspace_limit}\n",
    "spacey = requests.get(greenspace_endpoint, params= space_limits)\n",
    "space_data = spacey.json()\n",
    "total_parks = 0\n",
    "space_list = space_data['features']\n",
    "for hood in hood_data['features']:\n",
    "    hood_name = hood['properties']['L_HOOD']\n",
    "    polygon = shape(hood['geometry'])\n",
    "    for space in space_list:\n",
    "        if space['properties']['PUB_PRV'] == \"PUBLIC\" and space['properties']['STATUS'] == \"OPEN\": \n",
    "            if (space['properties']['GREENSPACE'] == \"Y\" or space['properties']['NATURAL'] == \"Y\"):\n",
    "                longitude = space['geometry']['coordinates'][0]\n",
    "                latitude = space['geometry']['coordinates'][1]\n",
    "                tier = space['properties']['TIER']\n",
    "                name = space['properties']['AREA_NAME']\n",
    "                point = Point (float(longitude), float(latitude))\n",
    "                if polygon.contains(point):\n",
    "                    total_parks += 1\n",
    "                    if tier not in hood_counts[hood_name]['park_ratings'].keys():\n",
    "                        hood_counts[hood_name]['park_ratings'][tier] = 1\n",
    "                    else: \n",
    "                        hood_counts[hood_name]['park_ratings'][tier] =  hood_counts[hood_name]['park_ratings'][tier] + 1\n",
    "                    hood_counts[hood_name]['park_count'] += 1         "
   ]
  },
  {
   "cell_type": "markdown",
   "id": "723ca5d4-25eb-49e6-9eb3-d4f14a7381e7",
   "metadata": {
    "tags": []
   },
   "source": [
    "**Step 3:** Queries Seattle Crime Database. Then, we loop through the neighborhoods and their geolocation from step 1 while also looping through the data gathered from the Seattle Public Spaces Database. If the crime is within the last 5 years (2017 - 2022), we create a shapely point based on the longitude and latitude of the crime and check to see which neighborhood it belongs in. Then, in the hood_counts dictionary at the neighborhood it is inside of, we add the values for type of crime, and the count of the crime incidences within the given neighborhood. "
   ]
  },
  {
   "cell_type": "code",
   "execution_count": 55,
   "id": "6b7f76ef-55b2-4d94-8a1c-0031508ac8c4",
   "metadata": {
    "tags": []
   },
   "outputs": [],
   "source": [
    "#retrieves all data from the art endpoint and creates a dictionary that lists the name, date \n",
    "#and point of all art projects and counts the number of pieces that do not fit this data criteria \n",
    "crime_limits = {\"$select\" :\"report_datetime, Offense_ID, Offense_Parent_Group, MCPP, Offense, Longitude, Latitude\", \n",
    "                \"$where\" : \"report_datetime > '2017-01-01T00:00:00'\",              \n",
    "                \"$limit\": 1000 #change\n",
    "               }\n",
    "#\"$where\" : \"report_datetime > '2017-01-01T00:00:00'\",              \n",
    "crime_end = requests.get(crime_endpoint, params = crime_limits)\n",
    "crime_data = crime_end.json()\n",
    "for c in crime_data:\n",
    "    for hood in hood_data['features']:\n",
    "        hood_name = hood['properties']['L_HOOD']\n",
    "        polygon = shape(hood['geometry'])\n",
    "        point = Point(float(c['Longitude']), float(c['Latitude']))\n",
    "        if polygon.contains(point):\n",
    "            hood_counts[hood_name]['crime_count'] += 1"
   ]
  },
  {
   "cell_type": "markdown",
   "id": "d10c72a8-954c-4eb5-8cf6-56529f2929cc",
   "metadata": {
    "tags": []
   },
   "source": [
    "**Step 4:** Loops through hood_counts to calculate average park rating for each neighborhood"
   ]
  },
  {
   "cell_type": "code",
   "execution_count": 56,
   "id": "ebedec47-fb9f-4dbc-9226-6ef092b41f7c",
   "metadata": {
    "tags": []
   },
   "outputs": [
    {
     "name": "stdout",
     "output_type": "stream",
     "text": [
      "{'Ballard': {'geometry': 0    POLYGON ((-122.40266 47.69602, -122.40236 47.6...\n",
      "dtype: geometry, 'most_common_crime': '', 'crime_count': 39, 'park_count': 52, 'park_ratings': {3: 8, 5: 24, 4: 17, 1: 3}, 'average_park_rating': 4.134615384615385}, 'Beacon Hill': {'geometry': 0    POLYGON ((-122.31281 47.59581, -122.31216 47.5...\n",
      "dtype: geometry, 'most_common_crime': '', 'crime_count': 33, 'park_count': 93, 'park_ratings': {5: 3, 4: 57, 3: 26, 2: 7}, 'average_park_rating': 3.6021505376344085}, 'Capitol Hill': {'geometry': 0    MULTIPOLYGON (((-122.29599 47.64184, -122.2960...\n",
      "dtype: geometry, 'most_common_crime': '', 'crime_count': 73, 'park_count': 107, 'park_ratings': {5: 32, 3: 43, 4: 20, 2: 6, 1: 6}, 'average_park_rating': 3.616822429906542}, 'Cascade': {'geometry': 0    POLYGON ((-122.32124 47.65231, -122.32113 47.6...\n",
      "dtype: geometry, 'most_common_crime': '', 'crime_count': 23, 'park_count': 42, 'park_ratings': {4: 26, 5: 5, 3: 11}, 'average_park_rating': 3.857142857142857}, 'Central Area': {'geometry': 0    POLYGON ((-122.27911 47.62786, -122.27915 47.6...\n",
      "dtype: geometry, 'most_common_crime': '', 'crime_count': 26, 'park_count': 153, 'park_ratings': {5: 44, 4: 66, 3: 33, 2: 6, 6: 4}, 'average_park_rating': 4.045751633986928}, 'Delridge': {'geometry': 0    POLYGON ((-122.35272 47.56439, -122.35253 47.5...\n",
      "dtype: geometry, 'most_common_crime': '', 'crime_count': 43, 'park_count': 160, 'park_ratings': {5: 36, 6: 5, 4: 66, 2: 9, 3: 38, 1: 6}, 'average_park_rating': 3.825}, 'Downtown': {'geometry': 0    POLYGON ((-122.32929 47.59240, -122.32969 47.5...\n",
      "dtype: geometry, 'most_common_crime': '', 'crime_count': 225, 'park_count': 43, 'park_ratings': {3: 5, 5: 15, 4: 23}, 'average_park_rating': 4.232558139534884}, 'Interbay': {'geometry': 0    POLYGON ((-122.39728 47.66505, -122.39731 47.6...\n",
      "dtype: geometry, 'most_common_crime': '', 'crime_count': 3, 'park_count': 7, 'park_ratings': {3: 4, 4: 1, 5: 2}, 'average_park_rating': 3.7142857142857144}, 'Lake City': {'geometry': 0    POLYGON ((-122.28403 47.73358, -122.28403 47.7...\n",
      "dtype: geometry, 'most_common_crime': '', 'crime_count': 35, 'park_count': 60, 'park_ratings': {5: 7, 4: 19, 3: 23, 2: 10, 6: 1}, 'average_park_rating': 3.433333333333333}, 'Magnolia': {'geometry': 0    POLYGON ((-122.40893 47.67149, -122.40886 47.6...\n",
      "dtype: geometry, 'most_common_crime': '', 'crime_count': 7, 'park_count': 63, 'park_ratings': {4: 9, 1: 7, 3: 46, 5: 1}, 'average_park_rating': 2.9523809523809526}, 'Greater Duwamish': {'geometry': 0    MULTIPOLYGON (((-122.34811 47.55931, -122.3480...\n",
      "dtype: geometry, 'most_common_crime': '', 'crime_count': 34, 'park_count': 56, 'park_ratings': {5: 13, 4: 17, 3: 23, 2: 1, 6: 2}, 'average_park_rating': 3.857142857142857}, 'Northeast': {'geometry': 0    POLYGON ((-122.31190 47.67206, -122.31191 47.6...\n",
      "dtype: geometry, 'most_common_crime': '', 'crime_count': 50, 'park_count': 94, 'park_ratings': {5: 18, 4: 13, 3: 35, 2: 21, 1: 7}, 'average_park_rating': 3.148936170212766}, 'Northgate': {'geometry': 0    POLYGON ((-122.30670 47.69134, -122.30782 47.6...\n",
      "dtype: geometry, 'most_common_crime': '', 'crime_count': 68, 'park_count': 51, 'park_ratings': {4: 21, 5: 13, 3: 12, 2: 5}, 'average_park_rating': 3.823529411764706}, 'Queen Anne': {'geometry': 0    POLYGON ((-122.37391 47.65711, -122.37378 47.6...\n",
      "dtype: geometry, 'most_common_crime': '', 'crime_count': 51, 'park_count': 74, 'park_ratings': {2: 11, 4: 15, 3: 18, 5: 29, 6: 1}, 'average_park_rating': 3.8783783783783785}, 'Rainier Valley': {'geometry': 0    POLYGON ((-122.28794 47.59113, -122.28700 47.5...\n",
      "dtype: geometry, 'most_common_crime': '', 'crime_count': 43, 'park_count': 202, 'park_ratings': {5: 71, 4: 44, 3: 48, 2: 38, 6: 1}, 'average_park_rating': 3.7475247524752477}, 'Seward Park': {'geometry': 0    POLYGON ((-122.27263 47.54604, -122.27264 47.5...\n",
      "dtype: geometry, 'most_common_crime': '', 'crime_count': 5, 'park_count': 49, 'park_ratings': {2: 5, 4: 10, 1: 3, 3: 31}, 'average_park_rating': 2.979591836734694}, 'West Seattle': {'geometry': 0    POLYGON ((-122.38713 47.59525, -122.38710 47.5...\n",
      "dtype: geometry, 'most_common_crime': '', 'crime_count': 33, 'park_count': 144, 'park_ratings': {2: 30, 4: 40, 5: 28, 3: 35, 1: 9, 6: 2}, 'average_park_rating': 3.375}, 'Northwest': {'geometry': 0    POLYGON ((-122.34453 47.69056, -122.34449 47.6...\n",
      "dtype: geometry, 'most_common_crime': '', 'crime_count': 48, 'park_count': 53, 'park_ratings': {6: 8, 4: 28, 3: 10, 1: 5, 5: 2}, 'average_park_rating': 3.8679245283018866}, 'North Central': {'geometry': 0    POLYGON ((-122.32907 47.69010, -122.32906 47.6...\n",
      "dtype: geometry, 'most_common_crime': '', 'crime_count': 66, 'park_count': 122, 'park_ratings': {4: 22, 5: 16, 2: 4, 1: 66, 3: 14}, 'average_park_rating': 2.3278688524590163}, 'University District': {'geometry': 0    POLYGON ((-122.30784 47.67097, -122.30661 47.6...\n",
      "dtype: geometry, 'most_common_crime': '', 'crime_count': 52, 'park_count': 141, 'park_ratings': {4: 20, 2: 75, 5: 36, 3: 4, 1: 3, 6: 3}, 'average_park_rating': 3.141843971631206}}\n"
     ]
    }
   ],
   "source": [
    "for hood in hood_counts:\n",
    "    total_rating = 0\n",
    "    num_ratings = 0\n",
    "    for rating in hood_counts[hood]['park_ratings']:\n",
    "        rating_sum = int(rating) * hood_counts[hood]['park_ratings'][rating]\n",
    "        num_ratings += hood_counts[hood]['park_ratings'][rating]\n",
    "        total_rating = total_rating + rating_sum \n",
    "        hood_counts[hood]['average_park_rating'] = total_rating/num_ratings\n",
    "print(hood_counts)"
   ]
  },
  {
   "cell_type": "markdown",
   "id": "a95d71dd-89f4-4a67-ab6c-e03fe7e22194",
   "metadata": {
    "tags": []
   },
   "source": [
    "## RQ1 - Do areas with more greenspace have less crime?\n",
    "\n",
    "**Step 1:** creates dict hood_percentages which creates a key for crime_percent and an key for park_percent, which takes the total number of crimes and parks for each neighborhoods and divides it by the overall total number of park and the total number of crime. Then, it creates two lists based on whether the percentage of parks or crime is greater for each neighborhood. These lists assoicate the neighborhood with the average park rating. The final value of these dictionaries is the average of all ratings within the given value of more parks than crime, or more crime than parks. "
   ]
  },
  {
   "cell_type": "code",
   "execution_count": 57,
   "id": "fd11887b-5c0e-46bf-9da3-52a89f277b8b",
   "metadata": {},
   "outputs": [],
   "source": [
    "#dict that tracks the percent of crimes and ratings\n",
    "hood_percentages = {}\n",
    "crime_total = 0\n",
    "park_total = 0\n",
    "\n",
    "#creates lists that \n",
    "low_crime_high_park = []\n",
    "high_crime_low_park = []\n",
    "low_crime_high_park_rating_sum = 0\n",
    "high_crime_low_park_rating_sum = 0\n",
    "\n",
    "for hood in hood_counts:\n",
    "    crime_total += hood_counts[hood]['crime_count']\n",
    "    park_total += hood_counts[hood]['park_count']\n",
    "\n",
    "for hood in hood_counts:\n",
    "    hood_percentages[hood] = {}\n",
    "    hood_percentages[hood]['crime_percent'] = round(((hood_counts[hood]['crime_count'] / crime_total) * 100),2)\n",
    "    hood_percentages[hood]['park_percent'] = round(((hood_counts[hood]['park_count'] / park_total) * 100),2)\n",
    "    if hood_percentages[hood]['crime_percent'] < hood_percentages[hood]['park_percent']:\n",
    "        low_crime_high_park.append({hood: hood_counts[hood]['average_park_rating']})\n",
    "        low_crime_high_park_rating_sum += hood_counts[hood]['average_park_rating']\n",
    "    else:\n",
    "        high_crime_low_park.append({hood: hood_counts[hood]['average_park_rating']})\n",
    "        high_crime_low_park_rating_sum += hood_counts[hood]['average_park_rating']\n",
    "\n",
    "low_crime_high_park_rating_sum = low_crime_high_park_rating_sum / len(low_crime_high_park)\n",
    "high_crime_low_park_rating_sum= high_crime_low_park_rating_sum / len(high_crime_low_park)\n",
    "low_crime_high_park.append({'Average': low_crime_high_park_rating_sum})\n",
    "high_crime_low_park.append({'Average' : high_crime_low_park_rating_sum})\n"
   ]
  },
  {
   "cell_type": "markdown",
   "id": "b29b7ae1-466c-4eab-9c21-4323203401f5",
   "metadata": {},
   "source": [
    "**Step 2:** creates a graph to represent the average park rating for the areas that have a higher percentage of crimes when compared to the number of parks"
   ]
  },
  {
   "cell_type": "code",
   "execution_count": 84,
   "id": "dcd4dc53-9a57-433d-a721-4c032c5a62b4",
   "metadata": {
    "tags": []
   },
   "outputs": [
    {
     "name": "stdout",
     "output_type": "stream",
     "text": [
      "4.134615384615385\n",
      "3.616822429906542\n",
      "3.857142857142857\n",
      "4.232558139534884\n",
      "3.433333333333333\n",
      "3.857142857142857\n",
      "3.823529411764706\n",
      "3.8783783783783785\n",
      "3.8679245283018866\n",
      "3.855716368902314\n"
     ]
    }
   ],
   "source": [
    "Hood = []\n",
    "Type = []\n",
    "Count = []\n",
    "for value in high_crime_low_park:\n",
    "    for hood in value:\n",
    "        print(value[hood])\n",
    "  Type.append(\"average park rating\")\n",
    "    unt.append(high_crime_low_park[hood])\n",
    "    #print(percentages[hood])\n",
    " # = pd.DataFrame({\n",
    " #  \"Hood\": Hood,\n",
    "  # \"Type\": Type,\n",
    "   #\"Percentage\": Count\n",
    "#)\n",
    "#ig = px.bar(df, x=\"Hood\", y=\"Percentage\", barmode=\"group\")\n",
    "#fig.show()"
   ]
  },
  {
   "cell_type": "markdown",
   "id": "a8d33742-1997-4dd7-94f6-2e6a4a5bfe24",
   "metadata": {},
   "source": [
    "**Step 3:** creates a graph that represents the average park rating for the areas that have higher percentage of parks when comapred to the percentage of crimes"
   ]
  },
  {
   "cell_type": "markdown",
   "id": "7c00de1f-755c-4c4b-892a-e4fee1205adc",
   "metadata": {
    "tags": []
   },
   "source": [
    "## RQ2 -  Does the the availability of parks in the area affect the severity of crime in a given area?\n",
    "**Step 1:** Does the the quality of the parks available in the area affect the amount of crime in a given area?"
   ]
  },
  {
   "cell_type": "code",
   "execution_count": null,
   "id": "a0976752-ec4d-4aca-93aa-2cf560570d86",
   "metadata": {
    "tags": []
   },
   "outputs": [],
   "source": [
    "Hood = []\n",
    "Type = []\n",
    "Count = []\n",
    "for hood in hood_percentages:\n",
    "    Hood.append(hood)\n",
    "    Hood.append(hood)\n",
    "    Type.append(\"park percent\")\n",
    "    Count.append(hood_percentages[hood][\"park_percent\"])\n",
    "    Type.append(\"crime percent\")\n",
    "    Count.append(hood_percentages[hood][\"crime_percent\"])\n",
    "df = pd.DataFrame({\n",
    "    \"Hood\": Hood,\n",
    "    \"Type\": Type,\n",
    "    \"Percentage\": Count\n",
    "})\n",
    "fig = px.bar(df, x=\"Hood\", y=\"Percentage\", color='Type', barmode=\"group\")\n",
    "fig.show()"
   ]
  },
  {
   "cell_type": "code",
   "execution_count": null,
   "id": "b73a91be-4ef5-49c7-901f-e163d9b5a48e",
   "metadata": {
    "tags": []
   },
   "outputs": [],
   "source": [
    "hoods =  pd.read_csv('hood_counts_space.csv')\n",
    "Hood = []\n",
    "Type = []\n",
    "Count = []\n",
    "for hood in hood_counts:\n",
    "    Hood.append(hood)\n",
    "    Type.append(\"crime_count\")\n",
    "    Count.append(hood_counts[hood]['average_park_rating'])\n",
    "df = pd.DataFrame({\n",
    "    \"Hood\": Hood,\n",
    "    \"Type\": Type,\n",
    "    \"Average Park Rating (1 = Best Park)\": Count\n",
    "})\n",
    "\n",
    "fig = px.bar(df, x=\"Hood\", y=\"Average Park Rating (1 = Best Park)\", barmode=\"group\")\n",
    "fig.show()"
   ]
  },
  {
   "cell_type": "code",
   "execution_count": null,
   "id": "be925d55-06bf-456a-abe7-6831ecd6a765",
   "metadata": {
    "jupyter": {
     "source_hidden": true
    },
    "tags": []
   },
   "outputs": [],
   "source": [
    "Hood = []\n",
    "Type = []\n",
    "Count = []\n",
    "for hood in hood_counts:\n",
    "    Hood.append(hood)\n",
    "    Hood.append(hood)\n",
    "    top_park_rating = 0 \n",
    "    rating_num = 0\n",
    "    #print(hood_counts[hood]['park_ratings'])\n",
    "    for rating in hood_counts[hood]['park_ratings']:\n",
    "        if hood_counts[hood]['park_ratings'][rating] > rating_num:\n",
    "            rating_num = hood_counts[hood]['park_ratings'][rating]\n",
    "            top_park_rating = rating\n",
    "        #print(str(rating) + \" \" + str(hood_counts[hood]['park_ratings'][rating]))\n",
    "    Type.append(\"top_park_rating\")\n",
    "    Count.append(top_park_rating)\n",
    "    Type.append(\"average_park_rating\")\n",
    "    Count.append(hood_counts[hood]['average_park_rating'])\n",
    "\n",
    "df = pd.DataFrame({\n",
    "    \"Hood\": Hood,\n",
    "    \"Type\": Type,\n",
    "    \"Park Rating\": Count\n",
    "})\n",
    "\n",
    "fig = px.bar(df, x=\"Hood\", y=\"Park Rating\", color=\"Type\", barmode=\"group\")\n",
    "fig.show()\n"
   ]
  },
  {
   "cell_type": "code",
   "execution_count": null,
   "id": "46e36e8b-28ab-4dda-a5ff-859271458b4a",
   "metadata": {},
   "outputs": [],
   "source": []
  },
  {
   "cell_type": "code",
   "execution_count": null,
   "id": "2117e5d1-cad8-4ee7-9dd3-5e6e65fb5bd1",
   "metadata": {},
   "outputs": [],
   "source": []
  },
  {
   "cell_type": "code",
   "execution_count": null,
   "id": "9d81f81f-a482-4855-8104-8aa81271a834",
   "metadata": {},
   "outputs": [],
   "source": []
  },
  {
   "cell_type": "code",
   "execution_count": null,
   "id": "0e3f67da-460d-4ef2-816b-39a6945441c6",
   "metadata": {},
   "outputs": [],
   "source": []
  },
  {
   "cell_type": "code",
   "execution_count": null,
   "id": "dd9999d6-6623-46b1-bf22-b0a569626272",
   "metadata": {},
   "outputs": [],
   "source": []
  },
  {
   "cell_type": "code",
   "execution_count": null,
   "id": "2889993c-b62c-4205-938e-17a34f6e156a",
   "metadata": {},
   "outputs": [],
   "source": []
  }
 ],
 "metadata": {
  "kernelspec": {
   "display_name": "Python 3 (ipykernel)",
   "language": "python",
   "name": "python3"
  },
  "language_info": {
   "codemirror_mode": {
    "name": "ipython",
    "version": 3
   },
   "file_extension": ".py",
   "mimetype": "text/x-python",
   "name": "python",
   "nbconvert_exporter": "python",
   "pygments_lexer": "ipython3",
   "version": "3.9.7"
  }
 },
 "nbformat": 4,
 "nbformat_minor": 5
}
