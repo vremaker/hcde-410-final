{
 "cells": [
  {
   "cell_type": "markdown",
   "id": "8ec20747-e723-4024-92c5-ad1d0e379f5f",
   "metadata": {
    "tags": []
   },
   "source": [
    "-----\n",
    "# The Impact of Public Arts, Cultural Spaces, and Greenspace on Crime\n",
    "----\n",
    "**Modified Project Scoping**  \n",
    "My original project proposal for this data investigation. This project was incredibly broad and focused on public art, greenspace, and cultural spaces. This informaiton was overwhelming, and there were a limited number of enteries for art and cultural spaces. In order to gain the deepest analysis, I decided to scope my project down to focus solely on greenspace, and the qualtiy of that green space. Although greenspace can help reduce crime, it is incredibly imporant to account for quality of greenspace , becuase if it is of poor quality, and has hidden nooks and crannies, it can actually serve as a platform for more crime.\n",
    "\n",
    "To see my updated research questions based on this scoping change, please view 'final_report.pytnb'\n",
    "\n",
    "___\n",
    "\n",
    "An investigation into potential impacts of neighborood enrichment on rates of crime, and types of crime across the various neighborhoods within Seattle, Washington.\n",
    "\n",
    "Presented by Valerie Remaker\n",
    "\n",
    "\n",
    "-----\n",
    "## Introduction & Background\n",
    "People are highly impacted by the envrionment in which they live, and this environment can have major impacts on mental health, and behavior. This study uses public art, cultural spaces, and greenspace such as parks and gardens as a proxy for understanding the environmental enrichment factors in a given neighborhood. This study seeks to work along a similar framework to the broken window thoery which uses the number of broken windows to guague the amount of crime - more broken windows incidates higher rates of crime (Koglmeier).  \n",
    "\n",
    "From previous studies, it seems like public art has little impact on crime rates (Koglmeier). This is a pretty common theme across the literature I reviewedAs far as green space is concerned, it does not automatically reduce crime; instead, these parks need to be well maintained and must not have hidden spots where crime could occur (Green Space and Crime). In the Greenspace database, there is a tier ranking of the parks from 1 - 6 in which 1 is the highest tier and 6 is the lowest tier. This ranking scale could probably be used to mirror the quality of the park and more deeply understand park quality as it relates to crime rates.\n",
    "\n",
    "Across all of the literature that I reviewed, a key factor in the effectiveness of these enrichment spaces - parks, public art, and cultural spaces - a key peice to making these public spaces effective is the need for a human centered approach with community engagement during the erection of these institutions (Koglmeier,Green Space and Crime, Ross). It is the human centered involvment in the arts programs that makes the connection and difference in these harm reduction programs. These spaces are not  a means to an end in an of it self, but a proxy for community engagement (Ross). This poses a difficult question within my research in which the ways in which the databases I choose do not really include data about community invovlement within these spaces. \n",
    "\n",
    "## Research Questions & Hypotheses \n",
    "**RQ1:** How do rates of graffiti and vandelism vary in areas with more murals and other types of public art? \n",
    "\n",
    "**H1:** I believe that there will be more graffiti in areas with less murals.\n",
    "\n",
    "**RQ2:** Do areas with more environmental enrichment (greenspace, public art and community space) have less crime?\n",
    "\n",
    "**H2:** I beleive that there will be less crime in areas with more of these enrichment areas. \n",
    "\n",
    "**RQ3:** How do different types of crime compare to the amount of art, community space, or green space available for access? \n",
    "\n",
    "**H2:** I believe that community spaces will reduce crimes like vandelism, and potentially higher level crime as well.  \n",
    "\n",
    "\n",
    "## Methods\n",
    "1. To begin, we will go through each database, and create a dictionary which sorts them by the neighborhood. \n",
    "2. Create new dictionaries for each of the neighborhoods to have the cross of all of the databases.  \n",
    "3. Compare the average amount of crimes for 10 year before and after each of these art/culture/greenspace. \n",
    "4. Gather the average park rating per neighorhood and compare it to crime rates.\n",
    "5. Compare the counts for different types of public art and see how they differ across neighborhoods\n",
    "6. Compare the counts of different types of cultural spaces and how they differ across neighborhoods.\n",
    "6. Gather the p value for statistical significance to understand if any of my findings were statistically significant. \n",
    "\n",
    "## Motivation and problem statement: \n",
    "\n",
    "**Why are you planning to do this analysis?**\n",
    "\n",
    "I am intersted in the distribution of arts and culture within Seattle, and how it relates to the rates of crime within those specific neighborhoods. In my current hypotheses, I think that areas with more arts and culture will have less crime. I also believe that, if research is done about th neighborhood in which the crimes/arts were present, that the neighborhoods with more money will have lower crime rates. But, this may always be an issue of discrimination against poorer neigbhorhoods due to the classism in society. I am also interested to see the what the overlap of arts and cultural spaces looks like in and or itself. Are there more art pieces by cultural spaces? Are there certain cultural spaces which might be near a certain type of public art piece? \n",
    "\n",
    "**Why is it potentially interesting and useful, from a scientific, practical, and/or human-centered perspective?**\n",
    "\n",
    "I am curious to see if having more art in a neighborhood reduces crime. If this can be foud, then it would be a great argument as to the introduction of more art, espeically in neighborhoods that are poor, or have higher crime rates to reduce such actions. Of course, this may cofound with classist norms like richer neighborhoods, which are cannonically underpoliced, might have more money in the city, and thus more funding for art. \n",
    "\n",
    "**What do you hope to learn?**\n",
    "\n",
    "I am looking to discover, to some degree, how the distriution of art affects the vibes in the neigbhorhood. I am also hoping to see if more cultural spaces causes more or less crime.\n",
    "\n",
    "\n",
    "**What dataset do you plan to use, and why?** \n",
    "I plan to use the following datasets:\n",
    "- [**Public Art Database**](https://data.seattle.gov/Community/Public-Art-Data/j7sn-tdzk) which tracks all the public art in Seattle. I want to use this to see what art the people in these neighborhoods.\n",
    "- [**Seattle Public Spaces**](https://data-seattlecitygis.opendata.arcgis.com/datasets/SeattleCityGIS::publicspaceseattle-entrypts/explore?location=47.611555%2C-122.355840%2C11.46) which is an overview of parks in Seattle which are open to the public and contain more information about what activites are present there. \n",
    "- [**Seattle Culture Space**](https://data.seattle.gov/Community/Seattle-Cultural-Space-Inventory/vsxr-aydq) which tracks all the spaces for arts and culture in Seattle. This is to see whether having more gatherings for culture has an impact of crime, and to see if more of the public art is situated around these spaces or not. \n",
    "- [**SPD Crime Data 2008 - Present**](https://data.seattle.gov/Public-Safety/SPD-Crime-Data-2008-Present/tazs-3rd5) which tracks the crime in Seattle. This is to discovery what the crime rates are like, and what times of crime happen in which neighborhoods. Is there any correlation to the type of art and type of crime? Or amount of art/cutlure and amount of crime? \n",
    "\n",
    "**Are there any factors outside of your control that might impact your ability to complete this project by the end of the quarter?**\n",
    "The biggest issue I can think of is cofounding varriables with overpolicing in poor neighborhoods, and cannoncially rich neighborhoods having more funding for arts, and also less policing becuase of that money as well.\n",
    "\n",
    "There may also be slight labeling differences across datasets which might need to be remedied and accounted for. \n",
    "\n",
    "## Citations \n",
    "\n",
    "Green Space and crime. Cornell College of Human Ecology. (n.d.). Retrieved May 11, 2022, from https://www.human.cornell.edu/dea/spotlights/green-space-and-crime \n",
    "\n",
    "Koglmeier, E. (2017, July 31). Can public art reduce crime? expert interview with Ben Sandberg. Public Art Archive. Retrieved May 10, 2022, from https://www.publicartarchive.org/2017/07/31/can-public-art-reduce-crime-expert-interview/ \n",
    "\n",
    "Ross, C. (n.d.). Examining the ways arts and culture intersect with public safety. Retrieved May 11, 2022, from https://www.urban.org/sites/default/files/publication/79271/2000725-Examining-the-Ways-Arts-and-Culture-Intersect-with-Public-Safety.pdf "
   ]
  },
  {
   "cell_type": "code",
   "execution_count": null,
   "id": "0aaaaf70-ff13-4801-beb0-182485c0cf8f",
   "metadata": {
    "jupyter": {
     "source_hidden": true
    },
    "tags": []
   },
   "outputs": [],
   "source": []
  }
 ],
 "metadata": {
  "kernelspec": {
   "display_name": "Python 3 (ipykernel)",
   "language": "python",
   "name": "python3"
  },
  "language_info": {
   "codemirror_mode": {
    "name": "ipython",
    "version": 3
   },
   "file_extension": ".py",
   "mimetype": "text/x-python",
   "name": "python",
   "nbconvert_exporter": "python",
   "pygments_lexer": "ipython3",
   "version": "3.9.7"
  }
 },
 "nbformat": 4,
 "nbformat_minor": 5
}
