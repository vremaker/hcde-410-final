{
 "cells": [
  {
   "cell_type": "markdown",
   "id": "f73ae445-7526-45cb-91bb-4d229f362098",
   "metadata": {},
   "source": [
    "# Calculations For Crime, Art, & Greenspace\n",
    "[A descripton of the api endpoints]\n",
    "\n",
    "---\n",
    "**Step 0:** We begin by importing all the neccesary functionality we need for this project including tools for mapping, and api calling. We then set critical global variables such as api endpoints and the number of entries that each of these calls returns."
   ]
  },
  {
   "cell_type": "code",
   "execution_count": null,
   "id": "b25e843c-ef9e-4e12-a8ed-57d5e42fe2b9",
   "metadata": {},
   "outputs": [],
   "source": [
    "#download request library, a bundle of code for APIs\n",
    "import requests\n",
    "import json\n",
    "from pprint import pprint\n",
    "import pandas as pd\n",
    "import geopandas as gpd\n",
    "import matplotlib.pyplot as plt\n",
    "from shapely.geometry import Point, Polygon, shape, Point\n",
    "import csv\n",
    "from pandas.io.json import json_normalize\n",
    "\n",
    "#api endpoints\n",
    "art_endpoint = \"https://data.seattle.gov/resource/j7sn-tdzk.json\"\n",
    "greenspace_endpoint = \"https://services.arcgis.com/ZOyb2t4B0UYuYNYH/arcgis/rest/services/Public_and_Open_Spaces_in_Seattle_WFL1/FeatureServer/0/query?outFields=*&where=1%3D1&f=geojson\"\n",
    "crime_endpoint = \"https://data.seattle.gov/resource/tazs-3rd5.json\"\n",
    "neighborhood_endpoint = \"https://services.arcgis.com/ZOyb2t4B0UYuYNYH/arcgis/rest/services/nma_nhoods_main/FeatureServer/0/query?outFields=*&where=1%3D1&f=geojson\"\n",
    "\n",
    "#the number of entries for each api \n",
    "art_spaces_limit =  316\n",
    "greenspace_limit = 3614\n",
    "crime_limit = 997000"
   ]
  },
  {
   "cell_type": "markdown",
   "id": "983ff68e-ba60-4381-b1df-afffd306c44f",
   "metadata": {
    "tags": []
   },
   "source": [
    "## Section 1 - Calling The APIs\n",
    "**Step 1:** We are primarily concerned with the name of the art piece as well as it's location on the map -- this gives us the greatest number of art pieces to use in the comparision in this study. This block of code calls the public art endpoint and loops through the data to create a dictionary which associates the title of the piece with the shapely longitude/latitude points which will be used to cross reference the boundaries of the neighborhoods.   "
   ]
  },
  {
   "cell_type": "code",
   "execution_count": 246,
   "id": "f8f10662-7d49-401b-81af-0dd477899c41",
   "metadata": {
    "tags": []
   },
   "outputs": [],
   "source": [
    "#retrieves all data from the art endpoint and creates a dictionary that lists the name, date \n",
    "#and point of all art projects and counts the number of pieces that do not fit this data criteria \n",
    "art_limit = {\"$select\": \"title, longitude, latitude\",  \n",
    "             \"$limit\" : art_spaces_limit}\n",
    "art = requests.get(art_endpoint, params= art_limit )\n",
    "art_data = art.json()\n",
    "art_info = {}\n",
    "for piece in art_data:\n",
    "    point = Point(float(piece['longitude']), float(piece['latitude']))\n",
    "    if piece.__contains__('title'):\n",
    "        art_info[piece['title']] = {'point' : point}"
   ]
  },
  {
   "cell_type": "markdown",
   "id": "a952097b-93cb-477d-a32b-53cfce98a9e6",
   "metadata": {},
   "source": [
    "**Step 2:** We will repeat similar procedures from step 1 to garner information about the greenspace throughout Seattle. We are mainly concerned with the park rating and the longitude and latitude it has. "
   ]
  },
  {
   "cell_type": "code",
   "execution_count": null,
   "id": "92f5b25e-8035-44f9-91d6-6bc5ca3ffc9f",
   "metadata": {},
   "outputs": [],
   "source": []
  },
  {
   "cell_type": "markdown",
   "id": "723ca5d4-25eb-49e6-9eb3-d4f14a7381e7",
   "metadata": {},
   "source": [
    "**Step 3:** We will repeat similar procedures from step 1 and 2 to garner information about the crime throughout Seattle. We are mainly foucsed on x, y ,z "
   ]
  },
  {
   "cell_type": "code",
   "execution_count": 252,
   "id": "6b7f76ef-55b2-4d94-8a1c-0031508ac8c4",
   "metadata": {},
   "outputs": [
    {
     "name": "stdout",
     "output_type": "stream",
     "text": [
      "[{'Latitude': '47.649387230',\n",
      "  'Longitude': '-122.385973723',\n",
      "  'MCPP': 'MAGNOLIA',\n",
      "  'Offense': 'Drug/Narcotic Violations'}]\n"
     ]
    }
   ],
   "source": [
    "#retrieves all data from the policing database \n",
    "police_by_location = {}\n",
    "police_limit = {\"$select\" :\"MCPP, Offense, Longitude, Latitude\"}\n",
    "arrests = requests.get(crime_endpoint, params=police_limit)\n",
    "crime_data = arrests.json()\n",
    "district = 0;\n",
    "pprint(crime_data[:1])\n"
   ]
  },
  {
   "cell_type": "markdown",
   "id": "a95d71dd-89f4-4a67-ab6c-e03fe7e22194",
   "metadata": {},
   "source": [
    "## Section 2 - Neighborhood Locations\n",
    "\n",
    "**Step 1:** Because the process I will be using to classify the location of art, greenspace, and crime involves comparing shapely information in mapping using longitude and lattitude, I first wanted to create a function to call to add the different types of [more description when this function get's completed]"
   ]
  },
  {
   "cell_type": "code",
   "execution_count": 247,
   "id": "c1f099fe-a50a-4434-8dd4-9dfc795610ca",
   "metadata": {
    "tags": []
   },
   "outputs": [],
   "source": [
    "def check_hood(response_data):\n",
    "    hoods = requests.get(neighborhood_endpoint)\n",
    "    hood_data = hoods.json()\n",
    "    hit = 0\n",
    "    for hood in hood_data['features']:\n",
    "        hood_name = hood['properties']['L_HOOD']\n",
    "        polygon = shape(hood['geometry'])\n",
    "        for piece in response_data:\n",
    "            point = art_info[piece]['point']\n",
    "            if polygon.contains(point):\n",
    "                print(hood_name + \" \" + piece)\n",
    "                hit += 1"
   ]
  },
  {
   "cell_type": "markdown",
   "id": "d10c72a8-954c-4eb5-8cf6-56529f2929cc",
   "metadata": {},
   "source": [
    "**Step 2:** Call the check_hood function for all three databases that have been queried for this study."
   ]
  },
  {
   "cell_type": "code",
   "execution_count": 249,
   "id": "097b2e39-41aa-49e3-ae03-e1682d67e041",
   "metadata": {
    "collapsed": true,
    "jupyter": {
     "outputs_hidden": true
    },
    "tags": []
   },
   "outputs": [
    {
     "name": "stdout",
     "output_type": "stream",
     "text": [
      "Ballard Coelacanths\n",
      "Ballard Forms of Power\n",
      "Ballard Ballard Boat\n",
      "Ballard .01 - Weather Permitting   .02 - Flow\n",
      "Ballard Witness Trees - What The Trees Have Seen\n",
      "Ballard Ballard Gateway\n",
      "Ballard Ballard Sculpture Garden\n",
      "Ballard Catfish\n",
      "Ballard Vagor I And Vagor II\n",
      "Ballard Ballard Centennial Bell Tower\n",
      "Ballard Atala Kivliktwok Okitun Dukik (The Golden Money Moon)\n",
      "Beacon Hill East is West\n",
      "Beacon Hill Equality\n",
      "Beacon Hill .01 - Beacon Hill Discovery; .02 - Ravens Bill Downspouts\n",
      "Beacon Hill Plynth and Pylon from the Project \"Vista\"\n",
      "Beacon Hill Hydro Roots from the project \"Vista\"\n",
      "Beacon Hill Dr. Jose P. Rizal\n",
      "Beacon Hill Tidal Wave Story\n",
      "Beacon Hill Salmon\n",
      "Beacon Hill Sherwood Gillespie\n",
      "Capitol Hill Untitled Cor-Ten Steel Sculpture\n",
      "Capitol Hill Playform\n",
      "Capitol Hill Contour\n",
      "Capitol Hill Lantern Gateway\n",
      "Capitol Hill House Finial\n",
      "Capitol Hill Skyline Canopies\n",
      "Capitol Hill Tulip Tree Mosaic\n",
      "Capitol Hill Dancer's Series: Steps\n",
      "Capitol Hill Homage in Green\n",
      "Capitol Hill The Itinerant\n",
      "Capitol Hill Mcgilvra's Farm\n",
      "Capitol Hill Gates\n",
      "Capitol Hill Waterfront Fountain\n",
      "Capitol Hill Black Sun\n",
      "Capitol Hill Water Into Electricity (That Man May Use It Freely)\n",
      "Capitol Hill Story of North Island (Totem Pole)\n",
      "Capitol Hill Judge Thomas Burke\n",
      "Capitol Hill William H. Seward\n",
      "Capitol Hill Neighbors\n",
      "Capitol Hill Untitled Bird-Bath\n",
      "Capitol Hill Skylight Aperture Sundial\n",
      "Cascade Cornerstones\n",
      "Cascade Dreamboats\n",
      "Cascade Spur Line\n",
      "Cascade Untitled \n",
      "Cascade Dr. Mark A. Matthews\n",
      "Central Area Renouveau\n",
      "Central Area Shango Throne\n",
      "Central Area Oshun Throne\n",
      "Central Area Soul Pole\n",
      "Central Area Kuba Grille\n",
      "Central Area Proverbs and Icons\n",
      "Central Area The Peaceable Kingdom\n",
      "Central Area My Testimony in Stone\n",
      "Central Area Tree Bench\n",
      "Central Area Children of the Sea\n",
      "Delridge Geomantic Artwork\n",
      "Delridge Children's Screen\n",
      "Delridge JUMs\n",
      "Delridge Longfellow Creek Legacy Trail Way Finding Signs\n",
      "Delridge Highpoint\n",
      "Delridge Sky Legends\n",
      "Delridge Looking at a Watershed:  Waterprints\n",
      "Delridge Looking at a Watershed: Sanctuary Grove\n",
      "Delridge Looking at a Watershed: Streambed Memories\n",
      "Delridge Looking at a Watershed: Dream Forest\n",
      "Delridge The Forest Is Waiting\n",
      "Delridge Framed Portraits\n",
      "Delridge One Hundred and Twenty Ancestors\n",
      "Delridge Trophies\n",
      "Delridge Tribal Names\n",
      "Delridge Break Point\n",
      "Delridge Mother Reading with Child\n",
      "Delridge Dragonfly Pavilion and Garden\n",
      "Downtown Fountain of Wisdom\n",
      "Downtown Second Avenue Additions\n",
      "Downtown Untitled (Kiosk)\n",
      "Downtown Day/Night\n",
      "Downtown Babe, The Phoenix Fairy, and The Magic Grove\n",
      "Downtown Astronomy by Day (and Other Oxymorons)\n",
      "Downtown Naramore Fountain\n",
      "Downtown Fortson Square  \n",
      "Downtown Westlake Star Axis/Seven Hills\n",
      "Downtown Skytones\n",
      "Downtown Seattle Totem Pole\n",
      "Downtown Street Treatment\n",
      "Downtown Common Ground\n",
      "Downtown Marine-Life Paintings\n",
      "Downtown Sculptural Screen\n",
      "Downtown Chief Seattle\n",
      "Downtown Water Works\n",
      "Downtown Making Visible the Invisible\n",
      "Downtown Beyond The Reef\n",
      "Downtown Heaven, Man, Earth\n",
      "Downtown Wellspring\n",
      "Downtown Whirl Piece:  Current Events\n",
      "Downtown illumine\n",
      "Downtown Braincast\n",
      "Downtown LEW Floor\n",
      "Downtown Evolving Wing and the Gravity of Presence\n",
      "Downtown Blue Glass Passage\n",
      "Downtown Continuum\n",
      "Downtown Return\n",
      "Downtown 112 Wristwatches\n",
      "Downtown Ornamental Iron in Leather/Contradictory Vibrations?\n",
      "Downtown Points of View\n",
      "Downtown Codes & Protocol\n",
      "Downtown Wings\n",
      "Downtown Witness and Dilemma, Levels, Weights and Measures\n",
      "Downtown Justice is Served: Celebrating the People Who Work For a Change\n",
      "Downtown Listening\n",
      "Downtown Wave, Rave, Cave\n",
      "Downtown Beckoning Cistern\n",
      "Downtown 4 (Where shall I go ahead?)\n",
      "Downtown Sea Otter, Salmon, And Raven\n",
      "Downtown Farmer's Pole\n",
      "Downtown Children's Art Tiles\n",
      "Downtown Hammering Man\n",
      "Downtown Ivar Feeding the Gulls\n",
      "Downtown Transition\n",
      "Downtown Seattle Garden\n",
      "Downtown Hatch Covers\n",
      "Downtown Untitled Fence\n",
      "Downtown Untitled Totem Pole\n",
      "Downtown Sand Dragon\n",
      "Downtown Untitled Mural\n",
      "Downtown Gyrojack\n",
      "Downtown Anawog\n",
      "Downtown Christopher Columbus\n",
      "Downtown Breaching Orca\n",
      "Downtown Three Dogs\n",
      "Downtown Bear (Totem)\n",
      "Downtown Killer Whale (Totem)\n",
      "Downtown Three Piece Sculpture #3: Vertebrae\n",
      "Downtown Activity in Growth\n",
      "Downtown Prefontaine Fountain\n",
      "Downtown Pergola\n",
      "Downtown Chief Seattle Fountain\n",
      "Downtown Governor John Harte Mcgraw\n",
      "Downtown Chinese Grand Pavilion\n",
      "Downtown Sun and Raven (Totem)\n",
      "Downtown Tsonqua (Totem)\n",
      "Downtown Waterway 15\n",
      "Downtown Cornerstone\n",
      "Downtown Angie's Umbrella\n",
      "Interbay Adjacent, Against, Upon\n",
      "Interbay DNA Wave Wall\n",
      "Interbay Salmon Waves\n",
      "Interbay Step on no Pets\n",
      "Lake City Imbrication\n",
      "Lake City Weather Prophet\n",
      "Lake City Fleet\n",
      "Lake City Fish Children\n",
      "Lake City Schema\n",
      "Lake City Collections  Objects, Experiences, Memories\n",
      "Lake City Meadowbrook Pond Kiosk\n",
      "Lake City Reflective Refuge at Meadowbrook Pond\n",
      "Lake City Lake City Gateway\n",
      "Magnolia Leaf Legend\n",
      "Magnolia Ripple Sculptures\n",
      "Magnolia Strata Benches\n",
      "Magnolia Untitled\n",
      "Greater Duwamish Story Viewers\n",
      "Greater Duwamish Geo-Slice\n",
      "Greater Duwamish Copper\n",
      "Greater Duwamish Paragon\n",
      "Greater Duwamish The Unified Playing Field Theory\n",
      "Greater Duwamish South Park Lights\n",
      "Northeast Seattle Scatter Piece\n",
      "Northeast The Fin Project:  From Swords into Plowshares\n",
      "Northeast World Flight Monument\n",
      "Northeast Garden of Color and Light\n",
      "Northeast Luminaire\n",
      "Northeast Froula Park Armchairs\n",
      "Northeast SAMARA\n",
      "Northeast Gazebo\n",
      "Northeast Playground Artwork\n",
      "Northeast Playground\n",
      "Northeast Sundial\n",
      "Northeast Duck Windvane\n",
      "Northeast Junior League of Seattle Playground Compass Rose\n",
      "Northeast Straight Shot\n",
      "Northgate Circulation\n",
      "Northgate Cloud Stones\n",
      "Northgate Conductive Paths\n",
      "Northgate Light Bulb Bench\n",
      "Northgate Memory Place\n",
      "Northgate In Transition is Unity\n",
      "Northgate American Doughboy Bringing Home Victory\n",
      "Northgate Big Tesla\n",
      "Queen Anne Moon Gates\n",
      "Queen Anne Garthgoyles:  Designs for the Charlotte Martin Theatre\n",
      "Queen Anne Moses\n",
      "Queen Anne Fountain of Seseragi\n",
      "Queen Anne Migrare\n",
      "Queen Anne Play Ray Plaza\n",
      "Queen Anne Circus Ring Plaza\n",
      "Queen Anne An Equal And Opposite Reaction\n",
      "Queen Anne Dreaming in Color\n",
      "Queen Anne Neototems Children's Garden\n",
      "Queen Anne Biography of a Branch\n",
      "Queen Anne Twine and Branch\n",
      "Queen Anne Acrobat Constellation\n",
      "Queen Anne In the Event\n",
      "Queen Anne Hydraulis\n",
      "Queen Anne Neototems\n",
      "Queen Anne Encircled Stream\n",
      "Queen Anne Pool\n",
      "Queen Anne The Lang Fountain\n",
      "Queen Anne Olympic Iliad\n",
      "Queen Anne Neon For The Bagley Wright Theatre\n",
      "Queen Anne Black Lightning\n",
      "Queen Anne Quintet in D\n",
      "Queen Anne Seattle Center Totem\n",
      "Queen Anne Volumetric Space Frame\n",
      "Queen Anne Barbet\n",
      "Queen Anne Fu\n",
      "Queen Anne Fountain Of Creation\n",
      "Queen Anne Fountain Of The Northwest\n",
      "Queen Anne Human Forms in Balance\n",
      "Queen Anne Kobe Bell\n",
      "Rainier Valley I-90 Portal\n",
      "Rainier Valley Pursuit of Knowledge\n",
      "Rainier Valley Periscope Tree\n",
      "Rainier Valley Wit and Wisdom\n",
      "Rainier Valley Clock Tower\n",
      "Rainier Valley Earth Story\n",
      "Rainier Valley Gravity Law\n",
      "Rainier Valley Memories\n",
      "Rainier Valley A Place Called Home\n",
      "Rainier Valley Spirit of Washington\n",
      "Rainier Valley Bottle Cap Children\n",
      "Rainier Valley Martin Luther King Jr. Memorial\n",
      "Rainier Valley The Children\n",
      "Rainier Valley Electrical Abuse\n",
      "Rainier Valley The Unity and Oneness of all\n",
      "Rainier Valley Garden Path\n",
      "Rainier Valley Japanese Lantern\n",
      "Seward Park Untitled Stone Garden Lantern\n",
      "West Seattle Little Liberty\n",
      "West Seattle Bronze Imbeds\n",
      "West Seattle Pavers\n",
      "West Seattle Alki / Duwamish Culture Trail\n",
      "West Seattle Homecoming\n",
      "West Seattle Inset-Anchor (Park) On Alki\n",
      "West Seattle Bronze Plaques and Medallion\n",
      "West Seattle Whale's Tail\n",
      "West Seattle American Youth and Freedom\n",
      "Northwest Untitled Star Map Floor Inlay\n",
      "Northwest Water Borne\n",
      "Northwest Swimming Fish\n",
      "Northwest Aureole\n",
      "Northwest Into the Green Wood\n",
      "Northwest Whirr\n",
      "Northwest Untitled Columns\n",
      "North Central Five Neons\n",
      "North Central Seven Figures\n",
      "North Central Water Weaving Light Cycle\n",
      "North Central Together as One\n",
      "North Central Morphauna\n",
      "North Central Dwelling Places\n",
      "North Central Evidence of Domestication\n",
      "North Central Signs of Life\n",
      "North Central Mesa\n",
      "North Central Baby Elephant\n",
      "North Central Portal\n",
      "North Central Jimi Hendrix Memorial Viewpoint\n",
      "North Central Meridian Archway\n",
      "North Central Crocodile\n",
      "North Central Reality Relics\n",
      "North Central Ross Creek\n",
      "North Central The Stairway In Fremont Project\n",
      "North Central Stroke\n",
      "North Central People Waiting for the Interurban\n",
      "North Central Pergola At Waiting For The Interurban\n",
      "North Central Gila Monster Mural\n",
      "North Central Homage to Hokusai\n",
      "North Central The Bears\n",
      "North Central Hiker Memorial Statue\n",
      "North Central Duets for Animals and People\n",
      "University District Wall of Death\n",
      "University District Sadako and the Thousand Paper Cranes\n",
      "University District Firefighter Silhouettes\n",
      "University District Wisteria Mural\n",
      "University District Sasquatch Pushing over A House\n"
     ]
    },
    {
     "ename": "TypeError",
     "evalue": "check_hood() missing 1 required positional argument: 'response_data'",
     "output_type": "error",
     "traceback": [
      "\u001b[0;31m---------------------------------------------------------------------------\u001b[0m",
      "\u001b[0;31mTypeError\u001b[0m                                 Traceback (most recent call last)",
      "\u001b[0;32m/tmp/ipykernel_78/63290154.py\u001b[0m in \u001b[0;36m<module>\u001b[0;34m\u001b[0m\n\u001b[1;32m      1\u001b[0m \u001b[0mcheck_hood\u001b[0m\u001b[0;34m(\u001b[0m\u001b[0mart_info\u001b[0m\u001b[0;34m)\u001b[0m\u001b[0;34m\u001b[0m\u001b[0;34m\u001b[0m\u001b[0m\n\u001b[0;32m----> 2\u001b[0;31m \u001b[0mcheck_hood\u001b[0m\u001b[0;34m(\u001b[0m\u001b[0;34m)\u001b[0m\u001b[0;34m\u001b[0m\u001b[0;34m\u001b[0m\u001b[0m\n\u001b[0m",
      "\u001b[0;31mTypeError\u001b[0m: check_hood() missing 1 required positional argument: 'response_data'"
     ]
    }
   ],
   "source": [
    "check_hood(art_info)\n",
    "check_hood()"
   ]
  },
  {
   "cell_type": "markdown",
   "id": "7c00de1f-755c-4c4b-892a-e4fee1205adc",
   "metadata": {},
   "source": [
    "## Section 3 - Mapping (& Other Analysis!) \n",
    "Now that we have a better understanding of geolocation and distribution, it is time to get into the meat of our analysis. \n",
    "\n",
    "**Step 1:** "
   ]
  },
  {
   "cell_type": "code",
   "execution_count": 27,
   "id": "b73a91be-4ef5-49c7-901f-e163d9b5a48e",
   "metadata": {
    "tags": []
   },
   "outputs": [
    {
     "name": "stderr",
     "output_type": "stream",
     "text": [
      "/opt/conda/lib/python3.9/site-packages/pyproj/crs/crs.py:130: FutureWarning: '+init=<authority>:<code>' syntax is deprecated. '<authority>:<code>' is the preferred initialization method. When making the change, be mindful of axis order changes: https://pyproj4.github.io/pyproj/stable/gotchas.html#axis-order-changes-in-proj-6\n",
      "  in_crs_string = _prepare_from_proj_string(in_crs_string)\n"
     ]
    },
    {
     "data": {
      "text/plain": [
       "Text(0.5, 1.0, 'art')"
      ]
     },
     "execution_count": 27,
     "metadata": {},
     "output_type": "execute_result"
    },
    {
     "data": {
      "image/png": "[encoded data removed]",
      "text/plain": [
       "<Figure size 1080x720 with 1 Axes>"
      ]
     },
     "metadata": {
      "needs_background": "light"
     },
     "output_type": "display_data"
    }
   ],
   "source": [
    "hoods = gpd.read_file(neighborhood_endpoint)\n",
    "#hoods.to_crs(epsg=4326).plot()\n",
    "df = pd.read_csv('Public_Art_Data.csv')\n",
    "df.head()\n",
    "crs= {'init': 'EPSG:4326'}\n",
    "geometry = [Point(xy) for xy in zip(df['longitude'], df['latitude'])]\n",
    "geo_df = gpd.GeoDataFrame(df, crs=crs, geometry = geometry)\n",
    "\n",
    "geo_df.head()\n",
    "fig, ax = plt.subplots(figsize = (15,10))\n",
    "hoods.to_crs(epsg=4326).plot(ax=ax, color='lightgrey')\n",
    "geo_df.plot(ax=ax, color='green', markersize=1)\n",
    "ax.set_title(\"art\")\n"
   ]
  },
  {
   "cell_type": "raw",
   "id": "5f67e1b8-5387-4203-b328-9c8b71fdec8e",
   "metadata": {},
   "source": []
  }
 ],
 "metadata": {
  "kernelspec": {
   "display_name": "Python 3 (ipykernel)",
   "language": "python",
   "name": "python3"
  },
  "language_info": {
   "codemirror_mode": {
    "name": "ipython",
    "version": 3
   },
   "file_extension": ".py",
   "mimetype": "text/x-python",
   "name": "python",
   "nbconvert_exporter": "python",
   "pygments_lexer": "ipython3",
   "version": "3.9.7"
  }
 },
 "nbformat": 4,
 "nbformat_minor": 5
}
