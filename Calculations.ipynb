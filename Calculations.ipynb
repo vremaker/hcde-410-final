{
 "cells": [
  {
   "cell_type": "markdown",
   "id": "81ba2432-2d1c-451e-9422-9b1e40d40fbf",
   "metadata": {},
   "source": [
    "# Calculations For Greenspace & Crime\n",
    "This project uses three endpoints from the Seattle Open Data API. A brief explaination of these endpoints is as follows:\n",
    "- [**Seattle Neighborhood**](https://data-seattlecitygis.opendata.arcgis.com/datasets/SeattleCityGIS::city-clerk-neighborhoods/about) a database that gives the geo coordinates for the different neighborhoods within Seattle   \n",
    "- [**Seattle Public Spaces**](https://data-seattlecitygis.opendata.arcgis.com/datasets/SeattleCityGIS::publicspaceseattle-entrypts/explore?location=47.611555%2C-122.355840%2C11.46) which is an overview of parks in Seattle which are open to the public and contain more information about what activites are present there. \n",
    "- [**SPD Crime Data 2008 - Present**](https://data.seattle.gov/Public-Safety/SPD-Crime-Data-2008-Present/tazs-3rd5) which tracks the crime in Seattle. This is to discovery what the crime rates are like, and what times of crime happen in which neighborhoods. Is there any correlation to the type of art and type of crime? Or amount of art/cutlure and amount of crime? I will be focusing on data from after 2017, to focus on the last 5 years of crime in the Seattle Area\n",
    "---\n",
    "**Step 0:** We begin by importing all the neccesary functionality we need for this project including tools for mapping, and api calling. We then set critical global variables such as api endpoints and the number of entries that each of these calls returns. You may need to run 'pip install geopandas' in the terminal for this to run properly."
   ]
  },
  {
   "cell_type": "code",
   "execution_count": 48,
   "id": "23a67174-45c4-4a6a-bd35-cf74dea30b8a",
   "metadata": {},
   "outputs": [],
   "source": [
    "#download request library, a bundle of code for APIs\n",
    "import requests\n",
    "import json\n",
    "from pprint import pprint\n",
    "import pandas as pd\n",
    "import geopandas as gpd\n",
    "import matplotlib.pyplot as plt\n",
    "from shapely.geometry import Point, Polygon, MultiPolygon, shape, Point\n",
    "import csv\n",
    "from pandas.io.json import json_normalize\n",
    "import plotly.graph_objects as go\n",
    "from shapely import geometry \n",
    "from shapely.geometry.multipolygon import MultiPolygon\n",
    "from shapely.geometry import shape\n",
    "from geopandas import GeoSeries\n",
    "import plotly.graph_objects as go\n",
    "import plotly.express as px\n",
    "\n",
    "#api endpoints\n",
    "greenspace_endpoint = \"https://services.arcgis.com/ZOyb2t4B0UYuYNYH/arcgis/rest/services/Public_and_Open_Spaces_in_Seattle_WFL1/FeatureServer/0/query?outFields=*&where=1%3D1&f=geojson\"\n",
    "crime_endpoint = \"https://data.seattle.gov/resource/tazs-3rd5.json\"\n",
    "neighborhood_endpoint = \"https://services.arcgis.com/ZOyb2t4B0UYuYNYH/arcgis/rest/services/nma_nhoods_main/FeatureServer/0/query?outFields=*&where=1%3D1&f=geojson\"\n",
    "\n",
    "#the number of entries for each api \n",
    "greenspace_limit = 3614\n",
    "crime_limit = 997000"
   ]
  },
  {
   "cell_type": "markdown",
   "id": "983ff68e-ba60-4381-b1df-afffd306c44f",
   "metadata": {
    "tags": []
   },
   "source": [
    "## Section 1 - Calling The APIs & Formatting Hood_counts\n",
    "**Step 1:** Queries Seattle Neighborhood Database. This code creates a \"hood_counts\" dictionary to track all the information from the endpoint about crime counts, crime types, park counts, park ratings, geographic information about the nieghborhoods. "
   ]
  },
  {
   "cell_type": "code",
   "execution_count": 2,
   "id": "8607e9c0-486d-4f8d-818d-2ef24d662820",
   "metadata": {
    "tags": []
   },
   "outputs": [],
   "source": [
    "hood_counts = {}\n",
    "hoods = requests.get(neighborhood_endpoint)\n",
    "hood_data = hoods.json()\n",
    "for hood in hood_data['features']:\n",
    "    hood_name = hood['properties']['L_HOOD']\n",
    "    #rint(hood_name + \" \" + str(len(hood['geometry']['coordinates'][0])))\n",
    "    if hood['geometry']['type'] == \"Polygon\":\n",
    "        p1 = Polygon(hood['geometry']['coordinates'][0])\n",
    "        polygon = GeoSeries([p1])\n",
    "    elif hood['geometry']['type'] == 'MultiPolygon':    \n",
    "        #polygon = Polygon([tuple(1) for 1 in hood['geometry']['coordinates'][0]])\n",
    "        poly: Polygon = shape(hood['geometry'])\n",
    "        polygon = GeoSeries(poly)\n",
    "    hood_counts[hood_name] = {}\n",
    "    hood_counts[hood_name]['geometry'] = polygon\n",
    "    hood_counts[hood_name]['most_common_crime'] = \"\"\n",
    "    hood_counts[hood_name]['crime_count'] = 0 \n",
    "    #hood_counts[hood_name]['crime_types'] = {}\n",
    "    hood_counts[hood_name]['park_count'] = 0\n",
    "    hood_counts[hood_name]['park_ratings'] = {}\n",
    "    hood_counts[hood_name]['average_park_rating'] = 0 "
   ]
  },
  {
   "cell_type": "markdown",
   "id": "f4dc4840-c648-49c3-b372-64c3c63a231e",
   "metadata": {},
   "source": [
    "**Step 2:** Queries Seattle Public Spaces Database. Then, we loop through the neighborhoods and their geolocation from step 1 while also looping through the data gathered from the Seattle Public Spaces Database. If the park is open, public and contains either forest or greensapce, we create a shapely point based on the longitude and latitude of the greenspace and check to see which neighborhood it belongs in. Then, in the hood_counts dictionary at the neighborhood it is inside of, we add the values for rating of this park, the name of the park, and the count of the parks within the given neighborhood. "
   ]
  },
  {
   "cell_type": "code",
   "execution_count": 3,
   "id": "f8f10662-7d49-401b-81af-0dd477899c41",
   "metadata": {
    "tags": []
   },
   "outputs": [],
   "source": [
    "#retrieves all data from the art endpoint and creates a dictionary that lists the name, date \n",
    "#and point of all art projects and counts the number of pieces that do not fit this data criteria \n",
    "space_limits = {\"$limit\" : greenspace_limit}\n",
    "spacey = requests.get(greenspace_endpoint, params= space_limits)\n",
    "space_data = spacey.json()\n",
    "total_parks = 0\n",
    "space_list = space_data['features']\n",
    "for hood in hood_data['features']:\n",
    "    hood_name = hood['properties']['L_HOOD']\n",
    "    polygon = shape(hood['geometry'])\n",
    "    for space in space_list:\n",
    "        if space['properties']['PUB_PRV'] == \"PUBLIC\" and space['properties']['STATUS'] == \"OPEN\": \n",
    "            if (space['properties']['GREENSPACE'] == \"Y\" or space['properties']['NATURAL'] == \"Y\"):\n",
    "                longitude = space['geometry']['coordinates'][0]\n",
    "                latitude = space['geometry']['coordinates'][1]\n",
    "                tier = space['properties']['TIER']\n",
    "                name = space['properties']['AREA_NAME']\n",
    "                point = Point (float(longitude), float(latitude))\n",
    "                if polygon.contains(point):\n",
    "                    total_parks += 1\n",
    "                    if tier not in hood_counts[hood_name]['park_ratings'].keys():\n",
    "                        hood_counts[hood_name]['park_ratings'][tier] = 1\n",
    "                    else: \n",
    "                        hood_counts[hood_name]['park_ratings'][tier] =  hood_counts[hood_name]['park_ratings'][tier] + 1\n",
    "                    hood_counts[hood_name]['park_count'] += 1         "
   ]
  },
  {
   "cell_type": "markdown",
   "id": "723ca5d4-25eb-49e6-9eb3-d4f14a7381e7",
   "metadata": {
    "tags": []
   },
   "source": [
    "**Step 3:** Queries Seattle Crime Database. Then, we loop through the neighborhoods and their geolocation from step 1 while also looping through the data gathered from the Seattle Public Spaces Database. If the crime is within the last 5 years (2017 - 2022), we create a shapely point based on the longitude and latitude of the crime and check to see which neighborhood it belongs in. Then, in the hood_counts dictionary at the neighborhood it is inside of, we add the values for type of crime, and the count of the crime incidences within the given neighborhood. "
   ]
  },
  {
   "cell_type": "code",
   "execution_count": 4,
   "id": "6b7f76ef-55b2-4d94-8a1c-0031508ac8c4",
   "metadata": {
    "tags": []
   },
   "outputs": [
    {
     "name": "stdout",
     "output_type": "stream",
     "text": [
      "32059\n"
     ]
    }
   ],
   "source": [
    "#retrieves all data from the art endpoint and creates a dictionary that lists the name, date \n",
    "#and point of all art projects and counts the number of pieces that do not fit this data criteria \n",
    "crime_limits = {\"$select\" :\"report_datetime, Offense_ID, Offense_Parent_Group, MCPP, Offense, Longitude, Latitude\", \n",
    "                \"$where\" : \"report_datetime > '2022-01-01T00:00:00'\",              \n",
    "                \"$limit\": crime_limit #change\n",
    "               }\n",
    "#\"$where\" : \"report_datetime > '2017-01-01T00:00:00'\",              \n",
    "crime_end = requests.get(crime_endpoint, params = crime_limits)\n",
    "crime_data = crime_end.json()\n",
    "for c in crime_data:\n",
    "    for hood in hood_data['features']:\n",
    "        hood_name = hood['properties']['L_HOOD']\n",
    "        polygon = shape(hood['geometry'])\n",
    "        point = Point(float(c['Longitude']), float(c['Latitude']))\n",
    "        if polygon.contains(point):\n",
    "            hood_counts[hood_name]['crime_count'] += 1"
   ]
  },
  {
   "cell_type": "markdown",
   "id": "d10c72a8-954c-4eb5-8cf6-56529f2929cc",
   "metadata": {
    "tags": []
   },
   "source": [
    "**Step 4:** Loops through hood_counts to calculate average park rating for each neighborhood"
   ]
  },
  {
   "cell_type": "code",
   "execution_count": 5,
   "id": "ebedec47-fb9f-4dbc-9226-6ef092b41f7c",
   "metadata": {
    "collapsed": true,
    "jupyter": {
     "outputs_hidden": true
    },
    "tags": []
   },
   "outputs": [
    {
     "name": "stdout",
     "output_type": "stream",
     "text": [
      "{'Ballard': {'geometry': 0    POLYGON ((-122.40266 47.69602, -122.40236 47.6...\n",
      "dtype: geometry, 'most_common_crime': '', 'crime_count': 1402, 'park_count': 52, 'park_ratings': {3: 8, 5: 24, 4: 17, 1: 3}, 'average_park_rating': 4.134615384615385}, 'Beacon Hill': {'geometry': 0    POLYGON ((-122.31281 47.59581, -122.31216 47.5...\n",
      "dtype: geometry, 'most_common_crime': '', 'crime_count': 1175, 'park_count': 93, 'park_ratings': {5: 3, 4: 57, 3: 26, 2: 7}, 'average_park_rating': 3.6021505376344085}, 'Capitol Hill': {'geometry': 0    MULTIPOLYGON (((-122.29599 47.64184, -122.2960...\n",
      "dtype: geometry, 'most_common_crime': '', 'crime_count': 2226, 'park_count': 107, 'park_ratings': {5: 32, 3: 43, 4: 20, 2: 6, 1: 6}, 'average_park_rating': 3.616822429906542}, 'Cascade': {'geometry': 0    POLYGON ((-122.32124 47.65231, -122.32113 47.6...\n",
      "dtype: geometry, 'most_common_crime': '', 'crime_count': 1057, 'park_count': 42, 'park_ratings': {4: 26, 5: 5, 3: 11}, 'average_park_rating': 3.857142857142857}, 'Central Area': {'geometry': 0    POLYGON ((-122.27911 47.62786, -122.27915 47.6...\n",
      "dtype: geometry, 'most_common_crime': '', 'crime_count': 1320, 'park_count': 153, 'park_ratings': {5: 44, 4: 66, 3: 33, 2: 6, 6: 4}, 'average_park_rating': 4.045751633986928}, 'Delridge': {'geometry': 0    POLYGON ((-122.35272 47.56439, -122.35253 47.5...\n",
      "dtype: geometry, 'most_common_crime': '', 'crime_count': 1509, 'park_count': 160, 'park_ratings': {5: 36, 6: 5, 4: 66, 2: 9, 3: 38, 1: 6}, 'average_park_rating': 3.825}, 'Downtown': {'geometry': 0    POLYGON ((-122.32929 47.59240, -122.32969 47.5...\n",
      "dtype: geometry, 'most_common_crime': '', 'crime_count': 5588, 'park_count': 43, 'park_ratings': {3: 5, 5: 15, 4: 23}, 'average_park_rating': 4.232558139534884}, 'Interbay': {'geometry': 0    POLYGON ((-122.39728 47.66505, -122.39731 47.6...\n",
      "dtype: geometry, 'most_common_crime': '', 'crime_count': 192, 'park_count': 7, 'park_ratings': {3: 4, 4: 1, 5: 2}, 'average_park_rating': 3.7142857142857144}, 'Lake City': {'geometry': 0    POLYGON ((-122.28403 47.73358, -122.28403 47.7...\n",
      "dtype: geometry, 'most_common_crime': '', 'crime_count': 875, 'park_count': 60, 'park_ratings': {5: 7, 4: 19, 3: 23, 2: 10, 6: 1}, 'average_park_rating': 3.433333333333333}, 'Magnolia': {'geometry': 0    POLYGON ((-122.40893 47.67149, -122.40886 47.6...\n",
      "dtype: geometry, 'most_common_crime': '', 'crime_count': 320, 'park_count': 63, 'park_ratings': {4: 9, 1: 7, 3: 46, 5: 1}, 'average_park_rating': 2.9523809523809526}, 'Greater Duwamish': {'geometry': 0    MULTIPOLYGON (((-122.34811 47.55931, -122.3480...\n",
      "dtype: geometry, 'most_common_crime': '', 'crime_count': 1452, 'park_count': 56, 'park_ratings': {5: 13, 4: 17, 3: 23, 2: 1, 6: 2}, 'average_park_rating': 3.857142857142857}, 'Northeast': {'geometry': 0    POLYGON ((-122.31190 47.67206, -122.31191 47.6...\n",
      "dtype: geometry, 'most_common_crime': '', 'crime_count': 1418, 'park_count': 94, 'park_ratings': {5: 18, 4: 13, 3: 35, 2: 21, 1: 7}, 'average_park_rating': 3.148936170212766}, 'Northgate': {'geometry': 0    POLYGON ((-122.30670 47.69134, -122.30782 47.6...\n",
      "dtype: geometry, 'most_common_crime': '', 'crime_count': 1628, 'park_count': 51, 'park_ratings': {4: 21, 5: 13, 3: 12, 2: 5}, 'average_park_rating': 3.823529411764706}, 'Queen Anne': {'geometry': 0    POLYGON ((-122.37391 47.65711, -122.37378 47.6...\n",
      "dtype: geometry, 'most_common_crime': '', 'crime_count': 1595, 'park_count': 74, 'park_ratings': {2: 11, 4: 15, 3: 18, 5: 29, 6: 1}, 'average_park_rating': 3.8783783783783785}, 'Rainier Valley': {'geometry': 0    POLYGON ((-122.28794 47.59113, -122.28700 47.5...\n",
      "dtype: geometry, 'most_common_crime': '', 'crime_count': 1642, 'park_count': 202, 'park_ratings': {5: 71, 4: 44, 3: 48, 2: 38, 6: 1}, 'average_park_rating': 3.7475247524752477}, 'Seward Park': {'geometry': 0    POLYGON ((-122.27263 47.54604, -122.27264 47.5...\n",
      "dtype: geometry, 'most_common_crime': '', 'crime_count': 124, 'park_count': 49, 'park_ratings': {2: 5, 4: 10, 1: 3, 3: 31}, 'average_park_rating': 2.979591836734694}, 'West Seattle': {'geometry': 0    POLYGON ((-122.38713 47.59525, -122.38710 47.5...\n",
      "dtype: geometry, 'most_common_crime': '', 'crime_count': 1370, 'park_count': 144, 'park_ratings': {2: 30, 4: 40, 5: 28, 3: 35, 1: 9, 6: 2}, 'average_park_rating': 3.375}, 'Northwest': {'geometry': 0    POLYGON ((-122.34453 47.69056, -122.34449 47.6...\n",
      "dtype: geometry, 'most_common_crime': '', 'crime_count': 1225, 'park_count': 53, 'park_ratings': {6: 8, 4: 28, 3: 10, 1: 5, 5: 2}, 'average_park_rating': 3.8679245283018866}, 'North Central': {'geometry': 0    POLYGON ((-122.32907 47.69010, -122.32906 47.6...\n",
      "dtype: geometry, 'most_common_crime': '', 'crime_count': 1960, 'park_count': 122, 'park_ratings': {4: 22, 5: 16, 2: 4, 1: 66, 3: 14}, 'average_park_rating': 2.3278688524590163}, 'University District': {'geometry': 0    POLYGON ((-122.30784 47.67097, -122.30661 47.6...\n",
      "dtype: geometry, 'most_common_crime': '', 'crime_count': 1318, 'park_count': 141, 'park_ratings': {4: 20, 2: 75, 5: 36, 3: 4, 1: 3, 6: 3}, 'average_park_rating': 3.141843971631206}}\n"
     ]
    }
   ],
   "source": [
    "for hood in hood_counts:\n",
    "    total_rating = 0\n",
    "    num_ratings = 0\n",
    "    for rating in hood_counts[hood]['park_ratings']:\n",
    "        rating_sum = int(rating) * hood_counts[hood]['park_ratings'][rating]\n",
    "        num_ratings += hood_counts[hood]['park_ratings'][rating]\n",
    "        total_rating = total_rating + rating_sum \n",
    "        hood_counts[hood]['average_park_rating'] = total_rating/num_ratings\n",
    "print(hood_counts)"
   ]
  },
  {
   "cell_type": "markdown",
   "id": "a95d71dd-89f4-4a67-ab6c-e03fe7e22194",
   "metadata": {
    "tags": []
   },
   "source": [
    "## Section 2 - Data Analysis & Charts! \n",
    "**Step 1:** creates dict hood_percentages which creates a key for crime_percent and an key for park_percent, which takes the total number of crimes and parks for each neighborhoods and divides it by the . Then, it creates two lists based on whether the percentage of parks or crime is greater for each neighborhood. These lists assoicate the neighborh\n",
    "ood with the average park rating. The final value of these dictionaries is the average of all ratings within the given value of more parks than crime, or more crime than parks. "
   ]
  },
  {
   "cell_type": "code",
   "execution_count": 37,
   "id": "fd11887b-5c0e-46bf-9da3-52a89f277b8b",
   "metadata": {},
   "outputs": [],
   "source": [
    "#dict that tracks the percent of crimes and ratings\n",
    "hood_percentages = {}\n",
    "crime_total = 0\n",
    "park_total = 0\n",
    "\n",
    "#creates lists that \n",
    "low_crime_high_park = []\n",
    "high_crime_low_park = []\n",
    "low_crime_high_park_rating_sum = 0\n",
    "high_crime_low_park_rating_sum = 0\n",
    "\n",
    "for hood in hood_counts:\n",
    "    crime_total += hood_counts[hood]['crime_count']\n",
    "    park_total += hood_counts[hood]['park_count']\n",
    "\n",
    "for hood in hood_counts:\n",
    "    hood_percentages[hood] = {}\n",
    "    hood_percentages[hood]['crime_percent'] = round(((hood_counts[hood]['crime_count'] / crime_total) * 100),2)\n",
    "    hood_percentages[hood]['park_percent'] = round(((hood_counts[hood]['park_count'] / park_total) * 100),2)\n",
    "    if hood_percentages[hood]['crime_percent'] < hood_percentages[hood]['park_percent']:\n",
    "        low_crime_high_park.append({hood: hood_counts[hood]['average_park_rating']})\n",
    "        low_crime_high_park_rating_sum += hood_counts[hood]['average_park_rating']\n",
    "    else:\n",
    "        high_crime_low_park.append({hood: hood_counts[hood]['average_park_rating']})\n",
    "        high_crime_low_park_rating_sum += hood_counts[hood]['average_park_rating']\n",
    "\n",
    "low_crime_high_park_rating_sum = low_crime_high_park_rating_sum / len(low_crime_high_park)\n",
    "high_crime_low_park_rating_sum= high_crime_low_park_rating_sum / len(high_crime_low_park)\n",
    "low_crime_high_park.append({'Average': low_crime_high_park_rating_sum})\n",
    "high_crime_low_park.append({'Average' : high_crime_low_park_rating_sum})"
   ]
  },
  {
   "cell_type": "code",
   "execution_count": 36,
   "id": "b5744a59-9cd1-4dfc-a7bc-fc23feafe934",
   "metadata": {},
   "outputs": [
    {
     "data": {
      "application/vnd.plotly.v1+json": {
       "config": {
        "plotlyServerURL": "https://plot.ly"
       },
       "data": [
        {
         "alignmentgroup": "True",
         "hovertemplate": "Type=park percent<br>Hood=%{x}<br>Percentage=%{y}<extra></extra>",
         "legendgroup": "park percent",
         "marker": {
          "color": "#636efa"
         },
         "name": "park percent",
         "offsetgroup": "park percent",
         "orientation": "v",
         "showlegend": true,
         "textposition": "auto",
         "type": "bar",
         "x": [
          "Ballard",
          "Beacon Hill",
          "Capitol Hill",
          "Cascade",
          "Central Area",
          "Delridge",
          "Downtown",
          "Interbay",
          "Lake City",
          "Magnolia",
          "Greater Duwamish",
          "Northeast",
          "Northgate",
          "Queen Anne",
          "Rainier Valley",
          "Seward Park",
          "West Seattle",
          "Northwest",
          "North Central",
          "University District"
         ],
         "xaxis": "x",
         "y": [
          2.94,
          5.27,
          6.06,
          2.38,
          8.66,
          9.06,
          2.43,
          0.4,
          3.4,
          3.57,
          3.17,
          5.32,
          2.89,
          4.19,
          11.44,
          2.77,
          8.15,
          3,
          6.91,
          7.98
         ],
         "yaxis": "y"
        },
        {
         "alignmentgroup": "True",
         "hovertemplate": "Type=crime percent<br>Hood=%{x}<br>Percentage=%{y}<extra></extra>",
         "legendgroup": "crime percent",
         "marker": {
          "color": "#EF553B"
         },
         "name": "crime percent",
         "offsetgroup": "crime percent",
         "orientation": "v",
         "showlegend": true,
         "textposition": "auto",
         "type": "bar",
         "x": [
          "Ballard",
          "Beacon Hill",
          "Capitol Hill",
          "Cascade",
          "Central Area",
          "Delridge",
          "Downtown",
          "Interbay",
          "Lake City",
          "Magnolia",
          "Greater Duwamish",
          "Northeast",
          "Northgate",
          "Queen Anne",
          "Rainier Valley",
          "Seward Park",
          "West Seattle",
          "Northwest",
          "North Central",
          "University District"
         ],
         "xaxis": "x",
         "y": [
          4.77,
          4,
          7.57,
          3.6,
          4.49,
          5.13,
          19.01,
          0.65,
          2.98,
          1.09,
          4.94,
          4.82,
          5.54,
          5.43,
          5.59,
          0.42,
          4.66,
          4.17,
          6.67,
          4.48
         ],
         "yaxis": "y"
        }
       ],
       "layout": {
        "autosize": true,
        "barmode": "group",
        "legend": {
         "title": {
          "text": "Type"
         },
         "tracegroupgap": 0
        },
        "margin": {
         "t": 60
        },
        "template": {
         "data": {
          "bar": [
           {
            "error_x": {
             "color": "#2a3f5f"
            },
            "error_y": {
             "color": "#2a3f5f"
            },
            "marker": {
             "line": {
              "color": "#E5ECF6",
              "width": 0.5
             }
            },
            "type": "bar"
           }
          ],
          "barpolar": [
           {
            "marker": {
             "line": {
              "color": "#E5ECF6",
              "width": 0.5
             }
            },
            "type": "barpolar"
           }
          ],
          "carpet": [
           {
            "aaxis": {
             "endlinecolor": "#2a3f5f",
             "gridcolor": "white",
             "linecolor": "white",
             "minorgridcolor": "white",
             "startlinecolor": "#2a3f5f"
            },
            "baxis": {
             "endlinecolor": "#2a3f5f",
             "gridcolor": "white",
             "linecolor": "white",
             "minorgridcolor": "white",
             "startlinecolor": "#2a3f5f"
            },
            "type": "carpet"
           }
          ],
          "choropleth": [
           {
            "colorbar": {
             "outlinewidth": 0,
             "ticks": ""
            },
            "type": "choropleth"
           }
          ],
          "contour": [
           {
            "colorbar": {
             "outlinewidth": 0,
             "ticks": ""
            },
            "colorscale": [
             [
              0,
              "#0d0887"
             ],
             [
              0.1111111111111111,
              "#46039f"
             ],
             [
              0.2222222222222222,
              "#7201a8"
             ],
             [
              0.3333333333333333,
              "#9c179e"
             ],
             [
              0.4444444444444444,
              "#bd3786"
             ],
             [
              0.5555555555555556,
              "#d8576b"
             ],
             [
              0.6666666666666666,
              "#ed7953"
             ],
             [
              0.7777777777777778,
              "#fb9f3a"
             ],
             [
              0.8888888888888888,
              "#fdca26"
             ],
             [
              1,
              "#f0f921"
             ]
            ],
            "type": "contour"
           }
          ],
          "contourcarpet": [
           {
            "colorbar": {
             "outlinewidth": 0,
             "ticks": ""
            },
            "type": "contourcarpet"
           }
          ],
          "heatmap": [
           {
            "colorbar": {
             "outlinewidth": 0,
             "ticks": ""
            },
            "colorscale": [
             [
              0,
              "#0d0887"
             ],
             [
              0.1111111111111111,
              "#46039f"
             ],
             [
              0.2222222222222222,
              "#7201a8"
             ],
             [
              0.3333333333333333,
              "#9c179e"
             ],
             [
              0.4444444444444444,
              "#bd3786"
             ],
             [
              0.5555555555555556,
              "#d8576b"
             ],
             [
              0.6666666666666666,
              "#ed7953"
             ],
             [
              0.7777777777777778,
              "#fb9f3a"
             ],
             [
              0.8888888888888888,
              "#fdca26"
             ],
             [
              1,
              "#f0f921"
             ]
            ],
            "type": "heatmap"
           }
          ],
          "heatmapgl": [
           {
            "colorbar": {
             "outlinewidth": 0,
             "ticks": ""
            },
            "colorscale": [
             [
              0,
              "#0d0887"
             ],
             [
              0.1111111111111111,
              "#46039f"
             ],
             [
              0.2222222222222222,
              "#7201a8"
             ],
             [
              0.3333333333333333,
              "#9c179e"
             ],
             [
              0.4444444444444444,
              "#bd3786"
             ],
             [
              0.5555555555555556,
              "#d8576b"
             ],
             [
              0.6666666666666666,
              "#ed7953"
             ],
             [
              0.7777777777777778,
              "#fb9f3a"
             ],
             [
              0.8888888888888888,
              "#fdca26"
             ],
             [
              1,
              "#f0f921"
             ]
            ],
            "type": "heatmapgl"
           }
          ],
          "histogram": [
           {
            "marker": {
             "colorbar": {
              "outlinewidth": 0,
              "ticks": ""
             }
            },
            "type": "histogram"
           }
          ],
          "histogram2d": [
           {
            "colorbar": {
             "outlinewidth": 0,
             "ticks": ""
            },
            "colorscale": [
             [
              0,
              "#0d0887"
             ],
             [
              0.1111111111111111,
              "#46039f"
             ],
             [
              0.2222222222222222,
              "#7201a8"
             ],
             [
              0.3333333333333333,
              "#9c179e"
             ],
             [
              0.4444444444444444,
              "#bd3786"
             ],
             [
              0.5555555555555556,
              "#d8576b"
             ],
             [
              0.6666666666666666,
              "#ed7953"
             ],
             [
              0.7777777777777778,
              "#fb9f3a"
             ],
             [
              0.8888888888888888,
              "#fdca26"
             ],
             [
              1,
              "#f0f921"
             ]
            ],
            "type": "histogram2d"
           }
          ],
          "histogram2dcontour": [
           {
            "colorbar": {
             "outlinewidth": 0,
             "ticks": ""
            },
            "colorscale": [
             [
              0,
              "#0d0887"
             ],
             [
              0.1111111111111111,
              "#46039f"
             ],
             [
              0.2222222222222222,
              "#7201a8"
             ],
             [
              0.3333333333333333,
              "#9c179e"
             ],
             [
              0.4444444444444444,
              "#bd3786"
             ],
             [
              0.5555555555555556,
              "#d8576b"
             ],
             [
              0.6666666666666666,
              "#ed7953"
             ],
             [
              0.7777777777777778,
              "#fb9f3a"
             ],
             [
              0.8888888888888888,
              "#fdca26"
             ],
             [
              1,
              "#f0f921"
             ]
            ],
            "type": "histogram2dcontour"
           }
          ],
          "mesh3d": [
           {
            "colorbar": {
             "outlinewidth": 0,
             "ticks": ""
            },
            "type": "mesh3d"
           }
          ],
          "parcoords": [
           {
            "line": {
             "colorbar": {
              "outlinewidth": 0,
              "ticks": ""
             }
            },
            "type": "parcoords"
           }
          ],
          "pie": [
           {
            "automargin": true,
            "type": "pie"
           }
          ],
          "scatter": [
           {
            "marker": {
             "colorbar": {
              "outlinewidth": 0,
              "ticks": ""
             }
            },
            "type": "scatter"
           }
          ],
          "scatter3d": [
           {
            "line": {
             "colorbar": {
              "outlinewidth": 0,
              "ticks": ""
             }
            },
            "marker": {
             "colorbar": {
              "outlinewidth": 0,
              "ticks": ""
             }
            },
            "type": "scatter3d"
           }
          ],
          "scattercarpet": [
           {
            "marker": {
             "colorbar": {
              "outlinewidth": 0,
              "ticks": ""
             }
            },
            "type": "scattercarpet"
           }
          ],
          "scattergeo": [
           {
            "marker": {
             "colorbar": {
              "outlinewidth": 0,
              "ticks": ""
             }
            },
            "type": "scattergeo"
           }
          ],
          "scattergl": [
           {
            "marker": {
             "colorbar": {
              "outlinewidth": 0,
              "ticks": ""
             }
            },
            "type": "scattergl"
           }
          ],
          "scattermapbox": [
           {
            "marker": {
             "colorbar": {
              "outlinewidth": 0,
              "ticks": ""
             }
            },
            "type": "scattermapbox"
           }
          ],
          "scatterpolar": [
           {
            "marker": {
             "colorbar": {
              "outlinewidth": 0,
              "ticks": ""
             }
            },
            "type": "scatterpolar"
           }
          ],
          "scatterpolargl": [
           {
            "marker": {
             "colorbar": {
              "outlinewidth": 0,
              "ticks": ""
             }
            },
            "type": "scatterpolargl"
           }
          ],
          "scatterternary": [
           {
            "marker": {
             "colorbar": {
              "outlinewidth": 0,
              "ticks": ""
             }
            },
            "type": "scatterternary"
           }
          ],
          "surface": [
           {
            "colorbar": {
             "outlinewidth": 0,
             "ticks": ""
            },
            "colorscale": [
             [
              0,
              "#0d0887"
             ],
             [
              0.1111111111111111,
              "#46039f"
             ],
             [
              0.2222222222222222,
              "#7201a8"
             ],
             [
              0.3333333333333333,
              "#9c179e"
             ],
             [
              0.4444444444444444,
              "#bd3786"
             ],
             [
              0.5555555555555556,
              "#d8576b"
             ],
             [
              0.6666666666666666,
              "#ed7953"
             ],
             [
              0.7777777777777778,
              "#fb9f3a"
             ],
             [
              0.8888888888888888,
              "#fdca26"
             ],
             [
              1,
              "#f0f921"
             ]
            ],
            "type": "surface"
           }
          ],
          "table": [
           {
            "cells": {
             "fill": {
              "color": "#EBF0F8"
             },
             "line": {
              "color": "white"
             }
            },
            "header": {
             "fill": {
              "color": "#C8D4E3"
             },
             "line": {
              "color": "white"
             }
            },
            "type": "table"
           }
          ]
         },
         "layout": {
          "annotationdefaults": {
           "arrowcolor": "#2a3f5f",
           "arrowhead": 0,
           "arrowwidth": 1
          },
          "autotypenumbers": "strict",
          "coloraxis": {
           "colorbar": {
            "outlinewidth": 0,
            "ticks": ""
           }
          },
          "colorscale": {
           "diverging": [
            [
             0,
             "#8e0152"
            ],
            [
             0.1,
             "#c51b7d"
            ],
            [
             0.2,
             "#de77ae"
            ],
            [
             0.3,
             "#f1b6da"
            ],
            [
             0.4,
             "#fde0ef"
            ],
            [
             0.5,
             "#f7f7f7"
            ],
            [
             0.6,
             "#e6f5d0"
            ],
            [
             0.7,
             "#b8e186"
            ],
            [
             0.8,
             "#7fbc41"
            ],
            [
             0.9,
             "#4d9221"
            ],
            [
             1,
             "#276419"
            ]
           ],
           "sequential": [
            [
             0,
             "#0d0887"
            ],
            [
             0.1111111111111111,
             "#46039f"
            ],
            [
             0.2222222222222222,
             "#7201a8"
            ],
            [
             0.3333333333333333,
             "#9c179e"
            ],
            [
             0.4444444444444444,
             "#bd3786"
            ],
            [
             0.5555555555555556,
             "#d8576b"
            ],
            [
             0.6666666666666666,
             "#ed7953"
            ],
            [
             0.7777777777777778,
             "#fb9f3a"
            ],
            [
             0.8888888888888888,
             "#fdca26"
            ],
            [
             1,
             "#f0f921"
            ]
           ],
           "sequentialminus": [
            [
             0,
             "#0d0887"
            ],
            [
             0.1111111111111111,
             "#46039f"
            ],
            [
             0.2222222222222222,
             "#7201a8"
            ],
            [
             0.3333333333333333,
             "#9c179e"
            ],
            [
             0.4444444444444444,
             "#bd3786"
            ],
            [
             0.5555555555555556,
             "#d8576b"
            ],
            [
             0.6666666666666666,
             "#ed7953"
            ],
            [
             0.7777777777777778,
             "#fb9f3a"
            ],
            [
             0.8888888888888888,
             "#fdca26"
            ],
            [
             1,
             "#f0f921"
            ]
           ]
          },
          "colorway": [
           "#636efa",
           "#EF553B",
           "#00cc96",
           "#ab63fa",
           "#FFA15A",
           "#19d3f3",
           "#FF6692",
           "#B6E880",
           "#FF97FF",
           "#FECB52"
          ],
          "font": {
           "color": "#2a3f5f"
          },
          "geo": {
           "bgcolor": "white",
           "lakecolor": "white",
           "landcolor": "#E5ECF6",
           "showlakes": true,
           "showland": true,
           "subunitcolor": "white"
          },
          "hoverlabel": {
           "align": "left"
          },
          "hovermode": "closest",
          "mapbox": {
           "style": "light"
          },
          "paper_bgcolor": "white",
          "plot_bgcolor": "#E5ECF6",
          "polar": {
           "angularaxis": {
            "gridcolor": "white",
            "linecolor": "white",
            "ticks": ""
           },
           "bgcolor": "#E5ECF6",
           "radialaxis": {
            "gridcolor": "white",
            "linecolor": "white",
            "ticks": ""
           }
          },
          "scene": {
           "xaxis": {
            "backgroundcolor": "#E5ECF6",
            "gridcolor": "white",
            "gridwidth": 2,
            "linecolor": "white",
            "showbackground": true,
            "ticks": "",
            "zerolinecolor": "white"
           },
           "yaxis": {
            "backgroundcolor": "#E5ECF6",
            "gridcolor": "white",
            "gridwidth": 2,
            "linecolor": "white",
            "showbackground": true,
            "ticks": "",
            "zerolinecolor": "white"
           },
           "zaxis": {
            "backgroundcolor": "#E5ECF6",
            "gridcolor": "white",
            "gridwidth": 2,
            "linecolor": "white",
            "showbackground": true,
            "ticks": "",
            "zerolinecolor": "white"
           }
          },
          "shapedefaults": {
           "line": {
            "color": "#2a3f5f"
           }
          },
          "ternary": {
           "aaxis": {
            "gridcolor": "white",
            "linecolor": "white",
            "ticks": ""
           },
           "baxis": {
            "gridcolor": "white",
            "linecolor": "white",
            "ticks": ""
           },
           "bgcolor": "#E5ECF6",
           "caxis": {
            "gridcolor": "white",
            "linecolor": "white",
            "ticks": ""
           }
          },
          "title": {
           "x": 0.05
          },
          "xaxis": {
           "automargin": true,
           "gridcolor": "white",
           "linecolor": "white",
           "ticks": "",
           "title": {
            "standoff": 15
           },
           "zerolinecolor": "white",
           "zerolinewidth": 2
          },
          "yaxis": {
           "automargin": true,
           "gridcolor": "white",
           "linecolor": "white",
           "ticks": "",
           "title": {
            "standoff": 15
           },
           "zerolinecolor": "white",
           "zerolinewidth": 2
          }
         }
        },
        "xaxis": {
         "anchor": "y",
         "autorange": true,
         "domain": [
          0,
          1
         ],
         "range": [
          -0.5,
          19.5
         ],
         "title": {
          "text": "Hood"
         },
         "type": "category"
        },
        "yaxis": {
         "anchor": "x",
         "autorange": true,
         "domain": [
          0,
          1
         ],
         "range": [
          0,
          20.010526315789477
         ],
         "title": {
          "text": "Percentage"
         },
         "type": "linear"
        }
       }
      },
      "image/png": "[encoded data removed]",
      "text/html": [
       "<div>                            <div id=\"55d5fb3f-3090-44db-a1d5-ed061f3cdbcb\" class=\"plotly-graph-div\" style=\"height:525px; width:100%;\"></div>            <script type=\"text/javascript\">                require([\"plotly\"], function(Plotly) {                    window.PLOTLYENV=window.PLOTLYENV || {};                                    if (document.getElementById(\"55d5fb3f-3090-44db-a1d5-ed061f3cdbcb\")) {                    Plotly.newPlot(                        \"55d5fb3f-3090-44db-a1d5-ed061f3cdbcb\",                        [{\"alignmentgroup\": \"True\", \"hovertemplate\": \"Type=park percent<br>Hood=%{x}<br>Percentage=%{y}<extra></extra>\", \"legendgroup\": \"park percent\", \"marker\": {\"color\": \"#636efa\"}, \"name\": \"park percent\", \"offsetgroup\": \"park percent\", \"orientation\": \"v\", \"showlegend\": true, \"textposition\": \"auto\", \"type\": \"bar\", \"x\": [\"Ballard\", \"Beacon Hill\", \"Capitol Hill\", \"Cascade\", \"Central Area\", \"Delridge\", \"Downtown\", \"Interbay\", \"Lake City\", \"Magnolia\", \"Greater Duwamish\", \"Northeast\", \"Northgate\", \"Queen Anne\", \"Rainier Valley\", \"Seward Park\", \"West Seattle\", \"Northwest\", \"North Central\", \"University District\"], \"xaxis\": \"x\", \"y\": [2.94, 5.27, 6.06, 2.38, 8.66, 9.06, 2.43, 0.4, 3.4, 3.57, 3.17, 5.32, 2.89, 4.19, 11.44, 2.77, 8.15, 3.0, 6.91, 7.98], \"yaxis\": \"y\"}, {\"alignmentgroup\": \"True\", \"hovertemplate\": \"Type=crime percent<br>Hood=%{x}<br>Percentage=%{y}<extra></extra>\", \"legendgroup\": \"crime percent\", \"marker\": {\"color\": \"#EF553B\"}, \"name\": \"crime percent\", \"offsetgroup\": \"crime percent\", \"orientation\": \"v\", \"showlegend\": true, \"textposition\": \"auto\", \"type\": \"bar\", \"x\": [\"Ballard\", \"Beacon Hill\", \"Capitol Hill\", \"Cascade\", \"Central Area\", \"Delridge\", \"Downtown\", \"Interbay\", \"Lake City\", \"Magnolia\", \"Greater Duwamish\", \"Northeast\", \"Northgate\", \"Queen Anne\", \"Rainier Valley\", \"Seward Park\", \"West Seattle\", \"Northwest\", \"North Central\", \"University District\"], \"xaxis\": \"x\", \"y\": [4.77, 4.0, 7.57, 3.6, 4.49, 5.13, 19.01, 0.65, 2.98, 1.09, 4.94, 4.82, 5.54, 5.43, 5.59, 0.42, 4.66, 4.17, 6.67, 4.48], \"yaxis\": \"y\"}],                        {\"barmode\": \"group\", \"legend\": {\"title\": {\"text\": \"Type\"}, \"tracegroupgap\": 0}, \"margin\": {\"t\": 60}, \"template\": {\"data\": {\"bar\": [{\"error_x\": {\"color\": \"#2a3f5f\"}, \"error_y\": {\"color\": \"#2a3f5f\"}, \"marker\": {\"line\": {\"color\": \"#E5ECF6\", \"width\": 0.5}}, \"type\": \"bar\"}], \"barpolar\": [{\"marker\": {\"line\": {\"color\": \"#E5ECF6\", \"width\": 0.5}}, \"type\": \"barpolar\"}], \"carpet\": [{\"aaxis\": {\"endlinecolor\": \"#2a3f5f\", \"gridcolor\": \"white\", \"linecolor\": \"white\", \"minorgridcolor\": \"white\", \"startlinecolor\": \"#2a3f5f\"}, \"baxis\": {\"endlinecolor\": \"#2a3f5f\", \"gridcolor\": \"white\", \"linecolor\": \"white\", \"minorgridcolor\": \"white\", \"startlinecolor\": \"#2a3f5f\"}, \"type\": \"carpet\"}], \"choropleth\": [{\"colorbar\": {\"outlinewidth\": 0, \"ticks\": \"\"}, \"type\": \"choropleth\"}], \"contour\": [{\"colorbar\": {\"outlinewidth\": 0, \"ticks\": \"\"}, \"colorscale\": [[0.0, \"#0d0887\"], [0.1111111111111111, \"#46039f\"], [0.2222222222222222, \"#7201a8\"], [0.3333333333333333, \"#9c179e\"], [0.4444444444444444, \"#bd3786\"], [0.5555555555555556, \"#d8576b\"], [0.6666666666666666, \"#ed7953\"], [0.7777777777777778, \"#fb9f3a\"], [0.8888888888888888, \"#fdca26\"], [1.0, \"#f0f921\"]], \"type\": \"contour\"}], \"contourcarpet\": [{\"colorbar\": {\"outlinewidth\": 0, \"ticks\": \"\"}, \"type\": \"contourcarpet\"}], \"heatmap\": [{\"colorbar\": {\"outlinewidth\": 0, \"ticks\": \"\"}, \"colorscale\": [[0.0, \"#0d0887\"], [0.1111111111111111, \"#46039f\"], [0.2222222222222222, \"#7201a8\"], [0.3333333333333333, \"#9c179e\"], [0.4444444444444444, \"#bd3786\"], [0.5555555555555556, \"#d8576b\"], [0.6666666666666666, \"#ed7953\"], [0.7777777777777778, \"#fb9f3a\"], [0.8888888888888888, \"#fdca26\"], [1.0, \"#f0f921\"]], \"type\": \"heatmap\"}], \"heatmapgl\": [{\"colorbar\": {\"outlinewidth\": 0, \"ticks\": \"\"}, \"colorscale\": [[0.0, \"#0d0887\"], [0.1111111111111111, \"#46039f\"], [0.2222222222222222, \"#7201a8\"], [0.3333333333333333, \"#9c179e\"], [0.4444444444444444, \"#bd3786\"], [0.5555555555555556, \"#d8576b\"], [0.6666666666666666, \"#ed7953\"], [0.7777777777777778, \"#fb9f3a\"], [0.8888888888888888, \"#fdca26\"], [1.0, \"#f0f921\"]], \"type\": \"heatmapgl\"}], \"histogram\": [{\"marker\": {\"colorbar\": {\"outlinewidth\": 0, \"ticks\": \"\"}}, \"type\": \"histogram\"}], \"histogram2d\": [{\"colorbar\": {\"outlinewidth\": 0, \"ticks\": \"\"}, \"colorscale\": [[0.0, \"#0d0887\"], [0.1111111111111111, \"#46039f\"], [0.2222222222222222, \"#7201a8\"], [0.3333333333333333, \"#9c179e\"], [0.4444444444444444, \"#bd3786\"], [0.5555555555555556, \"#d8576b\"], [0.6666666666666666, \"#ed7953\"], [0.7777777777777778, \"#fb9f3a\"], [0.8888888888888888, \"#fdca26\"], [1.0, \"#f0f921\"]], \"type\": \"histogram2d\"}], \"histogram2dcontour\": [{\"colorbar\": {\"outlinewidth\": 0, \"ticks\": \"\"}, \"colorscale\": [[0.0, \"#0d0887\"], [0.1111111111111111, \"#46039f\"], [0.2222222222222222, \"#7201a8\"], [0.3333333333333333, \"#9c179e\"], [0.4444444444444444, \"#bd3786\"], [0.5555555555555556, \"#d8576b\"], [0.6666666666666666, \"#ed7953\"], [0.7777777777777778, \"#fb9f3a\"], [0.8888888888888888, \"#fdca26\"], [1.0, \"#f0f921\"]], \"type\": \"histogram2dcontour\"}], \"mesh3d\": [{\"colorbar\": {\"outlinewidth\": 0, \"ticks\": \"\"}, \"type\": \"mesh3d\"}], \"parcoords\": [{\"line\": {\"colorbar\": {\"outlinewidth\": 0, \"ticks\": \"\"}}, \"type\": \"parcoords\"}], \"pie\": [{\"automargin\": true, \"type\": \"pie\"}], \"scatter\": [{\"marker\": {\"colorbar\": {\"outlinewidth\": 0, \"ticks\": \"\"}}, \"type\": \"scatter\"}], \"scatter3d\": [{\"line\": {\"colorbar\": {\"outlinewidth\": 0, \"ticks\": \"\"}}, \"marker\": {\"colorbar\": {\"outlinewidth\": 0, \"ticks\": \"\"}}, \"type\": \"scatter3d\"}], \"scattercarpet\": [{\"marker\": {\"colorbar\": {\"outlinewidth\": 0, \"ticks\": \"\"}}, \"type\": \"scattercarpet\"}], \"scattergeo\": [{\"marker\": {\"colorbar\": {\"outlinewidth\": 0, \"ticks\": \"\"}}, \"type\": \"scattergeo\"}], \"scattergl\": [{\"marker\": {\"colorbar\": {\"outlinewidth\": 0, \"ticks\": \"\"}}, \"type\": \"scattergl\"}], \"scattermapbox\": [{\"marker\": {\"colorbar\": {\"outlinewidth\": 0, \"ticks\": \"\"}}, \"type\": \"scattermapbox\"}], \"scatterpolar\": [{\"marker\": {\"colorbar\": {\"outlinewidth\": 0, \"ticks\": \"\"}}, \"type\": \"scatterpolar\"}], \"scatterpolargl\": [{\"marker\": {\"colorbar\": {\"outlinewidth\": 0, \"ticks\": \"\"}}, \"type\": \"scatterpolargl\"}], \"scatterternary\": [{\"marker\": {\"colorbar\": {\"outlinewidth\": 0, \"ticks\": \"\"}}, \"type\": \"scatterternary\"}], \"surface\": [{\"colorbar\": {\"outlinewidth\": 0, \"ticks\": \"\"}, \"colorscale\": [[0.0, \"#0d0887\"], [0.1111111111111111, \"#46039f\"], [0.2222222222222222, \"#7201a8\"], [0.3333333333333333, \"#9c179e\"], [0.4444444444444444, \"#bd3786\"], [0.5555555555555556, \"#d8576b\"], [0.6666666666666666, \"#ed7953\"], [0.7777777777777778, \"#fb9f3a\"], [0.8888888888888888, \"#fdca26\"], [1.0, \"#f0f921\"]], \"type\": \"surface\"}], \"table\": [{\"cells\": {\"fill\": {\"color\": \"#EBF0F8\"}, \"line\": {\"color\": \"white\"}}, \"header\": {\"fill\": {\"color\": \"#C8D4E3\"}, \"line\": {\"color\": \"white\"}}, \"type\": \"table\"}]}, \"layout\": {\"annotationdefaults\": {\"arrowcolor\": \"#2a3f5f\", \"arrowhead\": 0, \"arrowwidth\": 1}, \"autotypenumbers\": \"strict\", \"coloraxis\": {\"colorbar\": {\"outlinewidth\": 0, \"ticks\": \"\"}}, \"colorscale\": {\"diverging\": [[0, \"#8e0152\"], [0.1, \"#c51b7d\"], [0.2, \"#de77ae\"], [0.3, \"#f1b6da\"], [0.4, \"#fde0ef\"], [0.5, \"#f7f7f7\"], [0.6, \"#e6f5d0\"], [0.7, \"#b8e186\"], [0.8, \"#7fbc41\"], [0.9, \"#4d9221\"], [1, \"#276419\"]], \"sequential\": [[0.0, \"#0d0887\"], [0.1111111111111111, \"#46039f\"], [0.2222222222222222, \"#7201a8\"], [0.3333333333333333, \"#9c179e\"], [0.4444444444444444, \"#bd3786\"], [0.5555555555555556, \"#d8576b\"], [0.6666666666666666, \"#ed7953\"], [0.7777777777777778, \"#fb9f3a\"], [0.8888888888888888, \"#fdca26\"], [1.0, \"#f0f921\"]], \"sequentialminus\": [[0.0, \"#0d0887\"], [0.1111111111111111, \"#46039f\"], [0.2222222222222222, \"#7201a8\"], [0.3333333333333333, \"#9c179e\"], [0.4444444444444444, \"#bd3786\"], [0.5555555555555556, \"#d8576b\"], [0.6666666666666666, \"#ed7953\"], [0.7777777777777778, \"#fb9f3a\"], [0.8888888888888888, \"#fdca26\"], [1.0, \"#f0f921\"]]}, \"colorway\": [\"#636efa\", \"#EF553B\", \"#00cc96\", \"#ab63fa\", \"#FFA15A\", \"#19d3f3\", \"#FF6692\", \"#B6E880\", \"#FF97FF\", \"#FECB52\"], \"font\": {\"color\": \"#2a3f5f\"}, \"geo\": {\"bgcolor\": \"white\", \"lakecolor\": \"white\", \"landcolor\": \"#E5ECF6\", \"showlakes\": true, \"showland\": true, \"subunitcolor\": \"white\"}, \"hoverlabel\": {\"align\": \"left\"}, \"hovermode\": \"closest\", \"mapbox\": {\"style\": \"light\"}, \"paper_bgcolor\": \"white\", \"plot_bgcolor\": \"#E5ECF6\", \"polar\": {\"angularaxis\": {\"gridcolor\": \"white\", \"linecolor\": \"white\", \"ticks\": \"\"}, \"bgcolor\": \"#E5ECF6\", \"radialaxis\": {\"gridcolor\": \"white\", \"linecolor\": \"white\", \"ticks\": \"\"}}, \"scene\": {\"xaxis\": {\"backgroundcolor\": \"#E5ECF6\", \"gridcolor\": \"white\", \"gridwidth\": 2, \"linecolor\": \"white\", \"showbackground\": true, \"ticks\": \"\", \"zerolinecolor\": \"white\"}, \"yaxis\": {\"backgroundcolor\": \"#E5ECF6\", \"gridcolor\": \"white\", \"gridwidth\": 2, \"linecolor\": \"white\", \"showbackground\": true, \"ticks\": \"\", \"zerolinecolor\": \"white\"}, \"zaxis\": {\"backgroundcolor\": \"#E5ECF6\", \"gridcolor\": \"white\", \"gridwidth\": 2, \"linecolor\": \"white\", \"showbackground\": true, \"ticks\": \"\", \"zerolinecolor\": \"white\"}}, \"shapedefaults\": {\"line\": {\"color\": \"#2a3f5f\"}}, \"ternary\": {\"aaxis\": {\"gridcolor\": \"white\", \"linecolor\": \"white\", \"ticks\": \"\"}, \"baxis\": {\"gridcolor\": \"white\", \"linecolor\": \"white\", \"ticks\": \"\"}, \"bgcolor\": \"#E5ECF6\", \"caxis\": {\"gridcolor\": \"white\", \"linecolor\": \"white\", \"ticks\": \"\"}}, \"title\": {\"x\": 0.05}, \"xaxis\": {\"automargin\": true, \"gridcolor\": \"white\", \"linecolor\": \"white\", \"ticks\": \"\", \"title\": {\"standoff\": 15}, \"zerolinecolor\": \"white\", \"zerolinewidth\": 2}, \"yaxis\": {\"automargin\": true, \"gridcolor\": \"white\", \"linecolor\": \"white\", \"ticks\": \"\", \"title\": {\"standoff\": 15}, \"zerolinecolor\": \"white\", \"zerolinewidth\": 2}}}, \"xaxis\": {\"anchor\": \"y\", \"domain\": [0.0, 1.0], \"title\": {\"text\": \"Hood\"}}, \"yaxis\": {\"anchor\": \"x\", \"domain\": [0.0, 1.0], \"title\": {\"text\": \"Percentage\"}}},                        {\"responsive\": true}                    ).then(function(){\n",
       "                            \n",
       "var gd = document.getElementById('55d5fb3f-3090-44db-a1d5-ed061f3cdbcb');\n",
       "var x = new MutationObserver(function (mutations, observer) {{\n",
       "        var display = window.getComputedStyle(gd).display;\n",
       "        if (!display || display === 'none') {{\n",
       "            console.log([gd, 'removed!']);\n",
       "            Plotly.purge(gd);\n",
       "            observer.disconnect();\n",
       "        }}\n",
       "}});\n",
       "\n",
       "// Listen for the removal of the full notebook cells\n",
       "var notebookContainer = gd.closest('#notebook-container');\n",
       "if (notebookContainer) {{\n",
       "    x.observe(notebookContainer, {childList: true});\n",
       "}}\n",
       "\n",
       "// Listen for the clearing of the current output cell\n",
       "var outputEl = gd.closest('.output');\n",
       "if (outputEl) {{\n",
       "    x.observe(outputEl, {childList: true});\n",
       "}}\n",
       "\n",
       "                        })                };                });            </script>        </div>"
      ]
     },
     "metadata": {},
     "output_type": "display_data"
    }
   ],
   "source": [
    "Hood = []\n",
    "Type = []\n",
    "Count = []\n",
    "for hood in hood_percentages:\n",
    "    Hood.append(hood)\n",
    "    Hood.append(hood)\n",
    "    Type.append(\"park percent\")\n",
    "    Count.append(hood_percentages[hood][\"park_percent\"])\n",
    "    Type.append(\"crime percent\")\n",
    "    Count.append(hood_percentages[hood][\"crime_percent\"])\n",
    "df = pd.DataFrame({\n",
    "    \"Hood\": Hood,\n",
    "    \"Type\": Type,\n",
    "    \"Percentage\": Count\n",
    "})\n",
    "fig = px.bar(df, x=\"Hood\", y=\"Percentage\", color='Type', barmode=\"group\")\n",
    "fig.show()"
   ]
  },
  {
   "cell_type": "code",
   "execution_count": null,
   "id": "dc8a8cf0-061e-4494-a2ea-14c4dc5f9fa4",
   "metadata": {},
   "outputs": [],
   "source": []
  },
  {
   "cell_type": "markdown",
   "id": "7c00de1f-755c-4c4b-892a-e4fee1205adc",
   "metadata": {
    "tags": []
   },
   "source": [
    "### RQ2 - Does the the quality of parks in the area affect the amount of crime? "
   ]
  },
  {
   "cell_type": "markdown",
   "id": "b29b7ae1-466c-4eab-9c21-4323203401f5",
   "metadata": {},
   "source": [
    "**Step 3:** creates a graph that represents the average park rating for the areas that have higher percentage of parks when comapred to the percentage of crimes"
   ]
  },
  {
   "cell_type": "code",
   "execution_count": 49,
   "id": "dcd4dc53-9a57-433d-a721-4c032c5a62b4",
   "metadata": {
    "tags": []
   },
   "outputs": [
    {
     "data": {
      "application/vnd.plotly.v1+json": {
       "config": {
        "plotlyServerURL": "https://plot.ly"
       },
       "data": [
        {
         "alignmentgroup": "True",
         "hovertemplate": "Percentage of Crime v. Greenspace=%{x}<br>Average Park Rating=%{y}<extra></extra>",
         "legendgroup": "",
         "marker": {
          "color": "#636efa"
         },
         "name": "",
         "offsetgroup": "",
         "orientation": "v",
         "showlegend": false,
         "textposition": "auto",
         "type": "bar",
         "x": [
          "Higher Percentage of Crime",
          " Higher Percentage of Parks"
         ],
         "xaxis": "x",
         "y": [
          3.886933300119246,
          3.325398367349868
         ],
         "yaxis": "y"
        }
       ],
       "layout": {
        "autosize": true,
        "barmode": "group",
        "legend": {
         "tracegroupgap": 0
        },
        "template": {
         "data": {
          "bar": [
           {
            "error_x": {
             "color": "#2a3f5f"
            },
            "error_y": {
             "color": "#2a3f5f"
            },
            "marker": {
             "line": {
              "color": "#E5ECF6",
              "width": 0.5
             }
            },
            "type": "bar"
           }
          ],
          "barpolar": [
           {
            "marker": {
             "line": {
              "color": "#E5ECF6",
              "width": 0.5
             }
            },
            "type": "barpolar"
           }
          ],
          "carpet": [
           {
            "aaxis": {
             "endlinecolor": "#2a3f5f",
             "gridcolor": "white",
             "linecolor": "white",
             "minorgridcolor": "white",
             "startlinecolor": "#2a3f5f"
            },
            "baxis": {
             "endlinecolor": "#2a3f5f",
             "gridcolor": "white",
             "linecolor": "white",
             "minorgridcolor": "white",
             "startlinecolor": "#2a3f5f"
            },
            "type": "carpet"
           }
          ],
          "choropleth": [
           {
            "colorbar": {
             "outlinewidth": 0,
             "ticks": ""
            },
            "type": "choropleth"
           }
          ],
          "contour": [
           {
            "colorbar": {
             "outlinewidth": 0,
             "ticks": ""
            },
            "colorscale": [
             [
              0,
              "#0d0887"
             ],
             [
              0.1111111111111111,
              "#46039f"
             ],
             [
              0.2222222222222222,
              "#7201a8"
             ],
             [
              0.3333333333333333,
              "#9c179e"
             ],
             [
              0.4444444444444444,
              "#bd3786"
             ],
             [
              0.5555555555555556,
              "#d8576b"
             ],
             [
              0.6666666666666666,
              "#ed7953"
             ],
             [
              0.7777777777777778,
              "#fb9f3a"
             ],
             [
              0.8888888888888888,
              "#fdca26"
             ],
             [
              1,
              "#f0f921"
             ]
            ],
            "type": "contour"
           }
          ],
          "contourcarpet": [
           {
            "colorbar": {
             "outlinewidth": 0,
             "ticks": ""
            },
            "type": "contourcarpet"
           }
          ],
          "heatmap": [
           {
            "colorbar": {
             "outlinewidth": 0,
             "ticks": ""
            },
            "colorscale": [
             [
              0,
              "#0d0887"
             ],
             [
              0.1111111111111111,
              "#46039f"
             ],
             [
              0.2222222222222222,
              "#7201a8"
             ],
             [
              0.3333333333333333,
              "#9c179e"
             ],
             [
              0.4444444444444444,
              "#bd3786"
             ],
             [
              0.5555555555555556,
              "#d8576b"
             ],
             [
              0.6666666666666666,
              "#ed7953"
             ],
             [
              0.7777777777777778,
              "#fb9f3a"
             ],
             [
              0.8888888888888888,
              "#fdca26"
             ],
             [
              1,
              "#f0f921"
             ]
            ],
            "type": "heatmap"
           }
          ],
          "heatmapgl": [
           {
            "colorbar": {
             "outlinewidth": 0,
             "ticks": ""
            },
            "colorscale": [
             [
              0,
              "#0d0887"
             ],
             [
              0.1111111111111111,
              "#46039f"
             ],
             [
              0.2222222222222222,
              "#7201a8"
             ],
             [
              0.3333333333333333,
              "#9c179e"
             ],
             [
              0.4444444444444444,
              "#bd3786"
             ],
             [
              0.5555555555555556,
              "#d8576b"
             ],
             [
              0.6666666666666666,
              "#ed7953"
             ],
             [
              0.7777777777777778,
              "#fb9f3a"
             ],
             [
              0.8888888888888888,
              "#fdca26"
             ],
             [
              1,
              "#f0f921"
             ]
            ],
            "type": "heatmapgl"
           }
          ],
          "histogram": [
           {
            "marker": {
             "colorbar": {
              "outlinewidth": 0,
              "ticks": ""
             }
            },
            "type": "histogram"
           }
          ],
          "histogram2d": [
           {
            "colorbar": {
             "outlinewidth": 0,
             "ticks": ""
            },
            "colorscale": [
             [
              0,
              "#0d0887"
             ],
             [
              0.1111111111111111,
              "#46039f"
             ],
             [
              0.2222222222222222,
              "#7201a8"
             ],
             [
              0.3333333333333333,
              "#9c179e"
             ],
             [
              0.4444444444444444,
              "#bd3786"
             ],
             [
              0.5555555555555556,
              "#d8576b"
             ],
             [
              0.6666666666666666,
              "#ed7953"
             ],
             [
              0.7777777777777778,
              "#fb9f3a"
             ],
             [
              0.8888888888888888,
              "#fdca26"
             ],
             [
              1,
              "#f0f921"
             ]
            ],
            "type": "histogram2d"
           }
          ],
          "histogram2dcontour": [
           {
            "colorbar": {
             "outlinewidth": 0,
             "ticks": ""
            },
            "colorscale": [
             [
              0,
              "#0d0887"
             ],
             [
              0.1111111111111111,
              "#46039f"
             ],
             [
              0.2222222222222222,
              "#7201a8"
             ],
             [
              0.3333333333333333,
              "#9c179e"
             ],
             [
              0.4444444444444444,
              "#bd3786"
             ],
             [
              0.5555555555555556,
              "#d8576b"
             ],
             [
              0.6666666666666666,
              "#ed7953"
             ],
             [
              0.7777777777777778,
              "#fb9f3a"
             ],
             [
              0.8888888888888888,
              "#fdca26"
             ],
             [
              1,
              "#f0f921"
             ]
            ],
            "type": "histogram2dcontour"
           }
          ],
          "mesh3d": [
           {
            "colorbar": {
             "outlinewidth": 0,
             "ticks": ""
            },
            "type": "mesh3d"
           }
          ],
          "parcoords": [
           {
            "line": {
             "colorbar": {
              "outlinewidth": 0,
              "ticks": ""
             }
            },
            "type": "parcoords"
           }
          ],
          "pie": [
           {
            "automargin": true,
            "type": "pie"
           }
          ],
          "scatter": [
           {
            "marker": {
             "colorbar": {
              "outlinewidth": 0,
              "ticks": ""
             }
            },
            "type": "scatter"
           }
          ],
          "scatter3d": [
           {
            "line": {
             "colorbar": {
              "outlinewidth": 0,
              "ticks": ""
             }
            },
            "marker": {
             "colorbar": {
              "outlinewidth": 0,
              "ticks": ""
             }
            },
            "type": "scatter3d"
           }
          ],
          "scattercarpet": [
           {
            "marker": {
             "colorbar": {
              "outlinewidth": 0,
              "ticks": ""
             }
            },
            "type": "scattercarpet"
           }
          ],
          "scattergeo": [
           {
            "marker": {
             "colorbar": {
              "outlinewidth": 0,
              "ticks": ""
             }
            },
            "type": "scattergeo"
           }
          ],
          "scattergl": [
           {
            "marker": {
             "colorbar": {
              "outlinewidth": 0,
              "ticks": ""
             }
            },
            "type": "scattergl"
           }
          ],
          "scattermapbox": [
           {
            "marker": {
             "colorbar": {
              "outlinewidth": 0,
              "ticks": ""
             }
            },
            "type": "scattermapbox"
           }
          ],
          "scatterpolar": [
           {
            "marker": {
             "colorbar": {
              "outlinewidth": 0,
              "ticks": ""
             }
            },
            "type": "scatterpolar"
           }
          ],
          "scatterpolargl": [
           {
            "marker": {
             "colorbar": {
              "outlinewidth": 0,
              "ticks": ""
             }
            },
            "type": "scatterpolargl"
           }
          ],
          "scatterternary": [
           {
            "marker": {
             "colorbar": {
              "outlinewidth": 0,
              "ticks": ""
             }
            },
            "type": "scatterternary"
           }
          ],
          "surface": [
           {
            "colorbar": {
             "outlinewidth": 0,
             "ticks": ""
            },
            "colorscale": [
             [
              0,
              "#0d0887"
             ],
             [
              0.1111111111111111,
              "#46039f"
             ],
             [
              0.2222222222222222,
              "#7201a8"
             ],
             [
              0.3333333333333333,
              "#9c179e"
             ],
             [
              0.4444444444444444,
              "#bd3786"
             ],
             [
              0.5555555555555556,
              "#d8576b"
             ],
             [
              0.6666666666666666,
              "#ed7953"
             ],
             [
              0.7777777777777778,
              "#fb9f3a"
             ],
             [
              0.8888888888888888,
              "#fdca26"
             ],
             [
              1,
              "#f0f921"
             ]
            ],
            "type": "surface"
           }
          ],
          "table": [
           {
            "cells": {
             "fill": {
              "color": "#EBF0F8"
             },
             "line": {
              "color": "white"
             }
            },
            "header": {
             "fill": {
              "color": "#C8D4E3"
             },
             "line": {
              "color": "white"
             }
            },
            "type": "table"
           }
          ]
         },
         "layout": {
          "annotationdefaults": {
           "arrowcolor": "#2a3f5f",
           "arrowhead": 0,
           "arrowwidth": 1
          },
          "autotypenumbers": "strict",
          "coloraxis": {
           "colorbar": {
            "outlinewidth": 0,
            "ticks": ""
           }
          },
          "colorscale": {
           "diverging": [
            [
             0,
             "#8e0152"
            ],
            [
             0.1,
             "#c51b7d"
            ],
            [
             0.2,
             "#de77ae"
            ],
            [
             0.3,
             "#f1b6da"
            ],
            [
             0.4,
             "#fde0ef"
            ],
            [
             0.5,
             "#f7f7f7"
            ],
            [
             0.6,
             "#e6f5d0"
            ],
            [
             0.7,
             "#b8e186"
            ],
            [
             0.8,
             "#7fbc41"
            ],
            [
             0.9,
             "#4d9221"
            ],
            [
             1,
             "#276419"
            ]
           ],
           "sequential": [
            [
             0,
             "#0d0887"
            ],
            [
             0.1111111111111111,
             "#46039f"
            ],
            [
             0.2222222222222222,
             "#7201a8"
            ],
            [
             0.3333333333333333,
             "#9c179e"
            ],
            [
             0.4444444444444444,
             "#bd3786"
            ],
            [
             0.5555555555555556,
             "#d8576b"
            ],
            [
             0.6666666666666666,
             "#ed7953"
            ],
            [
             0.7777777777777778,
             "#fb9f3a"
            ],
            [
             0.8888888888888888,
             "#fdca26"
            ],
            [
             1,
             "#f0f921"
            ]
           ],
           "sequentialminus": [
            [
             0,
             "#0d0887"
            ],
            [
             0.1111111111111111,
             "#46039f"
            ],
            [
             0.2222222222222222,
             "#7201a8"
            ],
            [
             0.3333333333333333,
             "#9c179e"
            ],
            [
             0.4444444444444444,
             "#bd3786"
            ],
            [
             0.5555555555555556,
             "#d8576b"
            ],
            [
             0.6666666666666666,
             "#ed7953"
            ],
            [
             0.7777777777777778,
             "#fb9f3a"
            ],
            [
             0.8888888888888888,
             "#fdca26"
            ],
            [
             1,
             "#f0f921"
            ]
           ]
          },
          "colorway": [
           "#636efa",
           "#EF553B",
           "#00cc96",
           "#ab63fa",
           "#FFA15A",
           "#19d3f3",
           "#FF6692",
           "#B6E880",
           "#FF97FF",
           "#FECB52"
          ],
          "font": {
           "color": "#2a3f5f"
          },
          "geo": {
           "bgcolor": "white",
           "lakecolor": "white",
           "landcolor": "#E5ECF6",
           "showlakes": true,
           "showland": true,
           "subunitcolor": "white"
          },
          "hoverlabel": {
           "align": "left"
          },
          "hovermode": "closest",
          "mapbox": {
           "style": "light"
          },
          "paper_bgcolor": "white",
          "plot_bgcolor": "#E5ECF6",
          "polar": {
           "angularaxis": {
            "gridcolor": "white",
            "linecolor": "white",
            "ticks": ""
           },
           "bgcolor": "#E5ECF6",
           "radialaxis": {
            "gridcolor": "white",
            "linecolor": "white",
            "ticks": ""
           }
          },
          "scene": {
           "xaxis": {
            "backgroundcolor": "#E5ECF6",
            "gridcolor": "white",
            "gridwidth": 2,
            "linecolor": "white",
            "showbackground": true,
            "ticks": "",
            "zerolinecolor": "white"
           },
           "yaxis": {
            "backgroundcolor": "#E5ECF6",
            "gridcolor": "white",
            "gridwidth": 2,
            "linecolor": "white",
            "showbackground": true,
            "ticks": "",
            "zerolinecolor": "white"
           },
           "zaxis": {
            "backgroundcolor": "#E5ECF6",
            "gridcolor": "white",
            "gridwidth": 2,
            "linecolor": "white",
            "showbackground": true,
            "ticks": "",
            "zerolinecolor": "white"
           }
          },
          "shapedefaults": {
           "line": {
            "color": "#2a3f5f"
           }
          },
          "ternary": {
           "aaxis": {
            "gridcolor": "white",
            "linecolor": "white",
            "ticks": ""
           },
           "baxis": {
            "gridcolor": "white",
            "linecolor": "white",
            "ticks": ""
           },
           "bgcolor": "#E5ECF6",
           "caxis": {
            "gridcolor": "white",
            "linecolor": "white",
            "ticks": ""
           }
          },
          "title": {
           "x": 0.05
          },
          "xaxis": {
           "automargin": true,
           "gridcolor": "white",
           "linecolor": "white",
           "ticks": "",
           "title": {
            "standoff": 15
           },
           "zerolinecolor": "white",
           "zerolinewidth": 2
          },
          "yaxis": {
           "automargin": true,
           "gridcolor": "white",
           "linecolor": "white",
           "ticks": "",
           "title": {
            "standoff": 15
           },
           "zerolinecolor": "white",
           "zerolinewidth": 2
          }
         }
        },
        "title": {
         "text": "Average Park Rating Based on Distribution of Parks and Crime"
        },
        "xaxis": {
         "anchor": "y",
         "autorange": true,
         "domain": [
          0,
          1
         ],
         "range": [
          -0.5,
          1.5
         ],
         "title": {
          "text": "Percentage of Crime v. Greenspace"
         },
         "type": "category"
        },
        "yaxis": {
         "anchor": "x",
         "autorange": true,
         "domain": [
          0,
          1
         ],
         "range": [
          0,
          4.0915087369676275
         ],
         "title": {
          "text": "Average Park Rating"
         },
         "type": "linear"
        }
       }
      },
      "image/png": "[encoded data removed]",
      "text/html": [
       "<div>                            <div id=\"dea90a44-e700-4600-8a53-b404eed77cf0\" class=\"plotly-graph-div\" style=\"height:525px; width:100%;\"></div>            <script type=\"text/javascript\">                require([\"plotly\"], function(Plotly) {                    window.PLOTLYENV=window.PLOTLYENV || {};                                    if (document.getElementById(\"dea90a44-e700-4600-8a53-b404eed77cf0\")) {                    Plotly.newPlot(                        \"dea90a44-e700-4600-8a53-b404eed77cf0\",                        [{\"alignmentgroup\": \"True\", \"hovertemplate\": \"Percentage of Crime v. Greenspace=%{x}<br>Average Park Rating=%{y}<extra></extra>\", \"legendgroup\": \"\", \"marker\": {\"color\": \"#636efa\"}, \"name\": \"\", \"offsetgroup\": \"\", \"orientation\": \"v\", \"showlegend\": false, \"textposition\": \"auto\", \"type\": \"bar\", \"x\": [\"Higher Percentage of Crime\", \" Higher Percentage of Parks\"], \"xaxis\": \"x\", \"y\": [3.886933300119246, 3.325398367349868], \"yaxis\": \"y\"}],                        {\"barmode\": \"group\", \"legend\": {\"tracegroupgap\": 0}, \"template\": {\"data\": {\"bar\": [{\"error_x\": {\"color\": \"#2a3f5f\"}, \"error_y\": {\"color\": \"#2a3f5f\"}, \"marker\": {\"line\": {\"color\": \"#E5ECF6\", \"width\": 0.5}}, \"type\": \"bar\"}], \"barpolar\": [{\"marker\": {\"line\": {\"color\": \"#E5ECF6\", \"width\": 0.5}}, \"type\": \"barpolar\"}], \"carpet\": [{\"aaxis\": {\"endlinecolor\": \"#2a3f5f\", \"gridcolor\": \"white\", \"linecolor\": \"white\", \"minorgridcolor\": \"white\", \"startlinecolor\": \"#2a3f5f\"}, \"baxis\": {\"endlinecolor\": \"#2a3f5f\", \"gridcolor\": \"white\", \"linecolor\": \"white\", \"minorgridcolor\": \"white\", \"startlinecolor\": \"#2a3f5f\"}, \"type\": \"carpet\"}], \"choropleth\": [{\"colorbar\": {\"outlinewidth\": 0, \"ticks\": \"\"}, \"type\": \"choropleth\"}], \"contour\": [{\"colorbar\": {\"outlinewidth\": 0, \"ticks\": \"\"}, \"colorscale\": [[0.0, \"#0d0887\"], [0.1111111111111111, \"#46039f\"], [0.2222222222222222, \"#7201a8\"], [0.3333333333333333, \"#9c179e\"], [0.4444444444444444, \"#bd3786\"], [0.5555555555555556, \"#d8576b\"], [0.6666666666666666, \"#ed7953\"], [0.7777777777777778, \"#fb9f3a\"], [0.8888888888888888, \"#fdca26\"], [1.0, \"#f0f921\"]], \"type\": \"contour\"}], \"contourcarpet\": [{\"colorbar\": {\"outlinewidth\": 0, \"ticks\": \"\"}, \"type\": \"contourcarpet\"}], \"heatmap\": [{\"colorbar\": {\"outlinewidth\": 0, \"ticks\": \"\"}, \"colorscale\": [[0.0, \"#0d0887\"], [0.1111111111111111, \"#46039f\"], [0.2222222222222222, \"#7201a8\"], [0.3333333333333333, \"#9c179e\"], [0.4444444444444444, \"#bd3786\"], [0.5555555555555556, \"#d8576b\"], [0.6666666666666666, \"#ed7953\"], [0.7777777777777778, \"#fb9f3a\"], [0.8888888888888888, \"#fdca26\"], [1.0, \"#f0f921\"]], \"type\": \"heatmap\"}], \"heatmapgl\": [{\"colorbar\": {\"outlinewidth\": 0, \"ticks\": \"\"}, \"colorscale\": [[0.0, \"#0d0887\"], [0.1111111111111111, \"#46039f\"], [0.2222222222222222, \"#7201a8\"], [0.3333333333333333, \"#9c179e\"], [0.4444444444444444, \"#bd3786\"], [0.5555555555555556, \"#d8576b\"], [0.6666666666666666, \"#ed7953\"], [0.7777777777777778, \"#fb9f3a\"], [0.8888888888888888, \"#fdca26\"], [1.0, \"#f0f921\"]], \"type\": \"heatmapgl\"}], \"histogram\": [{\"marker\": {\"colorbar\": {\"outlinewidth\": 0, \"ticks\": \"\"}}, \"type\": \"histogram\"}], \"histogram2d\": [{\"colorbar\": {\"outlinewidth\": 0, \"ticks\": \"\"}, \"colorscale\": [[0.0, \"#0d0887\"], [0.1111111111111111, \"#46039f\"], [0.2222222222222222, \"#7201a8\"], [0.3333333333333333, \"#9c179e\"], [0.4444444444444444, \"#bd3786\"], [0.5555555555555556, \"#d8576b\"], [0.6666666666666666, \"#ed7953\"], [0.7777777777777778, \"#fb9f3a\"], [0.8888888888888888, \"#fdca26\"], [1.0, \"#f0f921\"]], \"type\": \"histogram2d\"}], \"histogram2dcontour\": [{\"colorbar\": {\"outlinewidth\": 0, \"ticks\": \"\"}, \"colorscale\": [[0.0, \"#0d0887\"], [0.1111111111111111, \"#46039f\"], [0.2222222222222222, \"#7201a8\"], [0.3333333333333333, \"#9c179e\"], [0.4444444444444444, \"#bd3786\"], [0.5555555555555556, \"#d8576b\"], [0.6666666666666666, \"#ed7953\"], [0.7777777777777778, \"#fb9f3a\"], [0.8888888888888888, \"#fdca26\"], [1.0, \"#f0f921\"]], \"type\": \"histogram2dcontour\"}], \"mesh3d\": [{\"colorbar\": {\"outlinewidth\": 0, \"ticks\": \"\"}, \"type\": \"mesh3d\"}], \"parcoords\": [{\"line\": {\"colorbar\": {\"outlinewidth\": 0, \"ticks\": \"\"}}, \"type\": \"parcoords\"}], \"pie\": [{\"automargin\": true, \"type\": \"pie\"}], \"scatter\": [{\"marker\": {\"colorbar\": {\"outlinewidth\": 0, \"ticks\": \"\"}}, \"type\": \"scatter\"}], \"scatter3d\": [{\"line\": {\"colorbar\": {\"outlinewidth\": 0, \"ticks\": \"\"}}, \"marker\": {\"colorbar\": {\"outlinewidth\": 0, \"ticks\": \"\"}}, \"type\": \"scatter3d\"}], \"scattercarpet\": [{\"marker\": {\"colorbar\": {\"outlinewidth\": 0, \"ticks\": \"\"}}, \"type\": \"scattercarpet\"}], \"scattergeo\": [{\"marker\": {\"colorbar\": {\"outlinewidth\": 0, \"ticks\": \"\"}}, \"type\": \"scattergeo\"}], \"scattergl\": [{\"marker\": {\"colorbar\": {\"outlinewidth\": 0, \"ticks\": \"\"}}, \"type\": \"scattergl\"}], \"scattermapbox\": [{\"marker\": {\"colorbar\": {\"outlinewidth\": 0, \"ticks\": \"\"}}, \"type\": \"scattermapbox\"}], \"scatterpolar\": [{\"marker\": {\"colorbar\": {\"outlinewidth\": 0, \"ticks\": \"\"}}, \"type\": \"scatterpolar\"}], \"scatterpolargl\": [{\"marker\": {\"colorbar\": {\"outlinewidth\": 0, \"ticks\": \"\"}}, \"type\": \"scatterpolargl\"}], \"scatterternary\": [{\"marker\": {\"colorbar\": {\"outlinewidth\": 0, \"ticks\": \"\"}}, \"type\": \"scatterternary\"}], \"surface\": [{\"colorbar\": {\"outlinewidth\": 0, \"ticks\": \"\"}, \"colorscale\": [[0.0, \"#0d0887\"], [0.1111111111111111, \"#46039f\"], [0.2222222222222222, \"#7201a8\"], [0.3333333333333333, \"#9c179e\"], [0.4444444444444444, \"#bd3786\"], [0.5555555555555556, \"#d8576b\"], [0.6666666666666666, \"#ed7953\"], [0.7777777777777778, \"#fb9f3a\"], [0.8888888888888888, \"#fdca26\"], [1.0, \"#f0f921\"]], \"type\": \"surface\"}], \"table\": [{\"cells\": {\"fill\": {\"color\": \"#EBF0F8\"}, \"line\": {\"color\": \"white\"}}, \"header\": {\"fill\": {\"color\": \"#C8D4E3\"}, \"line\": {\"color\": \"white\"}}, \"type\": \"table\"}]}, \"layout\": {\"annotationdefaults\": {\"arrowcolor\": \"#2a3f5f\", \"arrowhead\": 0, \"arrowwidth\": 1}, \"autotypenumbers\": \"strict\", \"coloraxis\": {\"colorbar\": {\"outlinewidth\": 0, \"ticks\": \"\"}}, \"colorscale\": {\"diverging\": [[0, \"#8e0152\"], [0.1, \"#c51b7d\"], [0.2, \"#de77ae\"], [0.3, \"#f1b6da\"], [0.4, \"#fde0ef\"], [0.5, \"#f7f7f7\"], [0.6, \"#e6f5d0\"], [0.7, \"#b8e186\"], [0.8, \"#7fbc41\"], [0.9, \"#4d9221\"], [1, \"#276419\"]], \"sequential\": [[0.0, \"#0d0887\"], [0.1111111111111111, \"#46039f\"], [0.2222222222222222, \"#7201a8\"], [0.3333333333333333, \"#9c179e\"], [0.4444444444444444, \"#bd3786\"], [0.5555555555555556, \"#d8576b\"], [0.6666666666666666, \"#ed7953\"], [0.7777777777777778, \"#fb9f3a\"], [0.8888888888888888, \"#fdca26\"], [1.0, \"#f0f921\"]], \"sequentialminus\": [[0.0, \"#0d0887\"], [0.1111111111111111, \"#46039f\"], [0.2222222222222222, \"#7201a8\"], [0.3333333333333333, \"#9c179e\"], [0.4444444444444444, \"#bd3786\"], [0.5555555555555556, \"#d8576b\"], [0.6666666666666666, \"#ed7953\"], [0.7777777777777778, \"#fb9f3a\"], [0.8888888888888888, \"#fdca26\"], [1.0, \"#f0f921\"]]}, \"colorway\": [\"#636efa\", \"#EF553B\", \"#00cc96\", \"#ab63fa\", \"#FFA15A\", \"#19d3f3\", \"#FF6692\", \"#B6E880\", \"#FF97FF\", \"#FECB52\"], \"font\": {\"color\": \"#2a3f5f\"}, \"geo\": {\"bgcolor\": \"white\", \"lakecolor\": \"white\", \"landcolor\": \"#E5ECF6\", \"showlakes\": true, \"showland\": true, \"subunitcolor\": \"white\"}, \"hoverlabel\": {\"align\": \"left\"}, \"hovermode\": \"closest\", \"mapbox\": {\"style\": \"light\"}, \"paper_bgcolor\": \"white\", \"plot_bgcolor\": \"#E5ECF6\", \"polar\": {\"angularaxis\": {\"gridcolor\": \"white\", \"linecolor\": \"white\", \"ticks\": \"\"}, \"bgcolor\": \"#E5ECF6\", \"radialaxis\": {\"gridcolor\": \"white\", \"linecolor\": \"white\", \"ticks\": \"\"}}, \"scene\": {\"xaxis\": {\"backgroundcolor\": \"#E5ECF6\", \"gridcolor\": \"white\", \"gridwidth\": 2, \"linecolor\": \"white\", \"showbackground\": true, \"ticks\": \"\", \"zerolinecolor\": \"white\"}, \"yaxis\": {\"backgroundcolor\": \"#E5ECF6\", \"gridcolor\": \"white\", \"gridwidth\": 2, \"linecolor\": \"white\", \"showbackground\": true, \"ticks\": \"\", \"zerolinecolor\": \"white\"}, \"zaxis\": {\"backgroundcolor\": \"#E5ECF6\", \"gridcolor\": \"white\", \"gridwidth\": 2, \"linecolor\": \"white\", \"showbackground\": true, \"ticks\": \"\", \"zerolinecolor\": \"white\"}}, \"shapedefaults\": {\"line\": {\"color\": \"#2a3f5f\"}}, \"ternary\": {\"aaxis\": {\"gridcolor\": \"white\", \"linecolor\": \"white\", \"ticks\": \"\"}, \"baxis\": {\"gridcolor\": \"white\", \"linecolor\": \"white\", \"ticks\": \"\"}, \"bgcolor\": \"#E5ECF6\", \"caxis\": {\"gridcolor\": \"white\", \"linecolor\": \"white\", \"ticks\": \"\"}}, \"title\": {\"x\": 0.05}, \"xaxis\": {\"automargin\": true, \"gridcolor\": \"white\", \"linecolor\": \"white\", \"ticks\": \"\", \"title\": {\"standoff\": 15}, \"zerolinecolor\": \"white\", \"zerolinewidth\": 2}, \"yaxis\": {\"automargin\": true, \"gridcolor\": \"white\", \"linecolor\": \"white\", \"ticks\": \"\", \"title\": {\"standoff\": 15}, \"zerolinecolor\": \"white\", \"zerolinewidth\": 2}}}, \"title\": {\"text\": \"Average Park Rating Based on Distribution of Parks and Crime\"}, \"xaxis\": {\"anchor\": \"y\", \"domain\": [0.0, 1.0], \"title\": {\"text\": \"Percentage of Crime v. Greenspace\"}}, \"yaxis\": {\"anchor\": \"x\", \"domain\": [0.0, 1.0], \"title\": {\"text\": \"Average Park Rating\"}}},                        {\"responsive\": true}                    ).then(function(){\n",
       "                            \n",
       "var gd = document.getElementById('dea90a44-e700-4600-8a53-b404eed77cf0');\n",
       "var x = new MutationObserver(function (mutations, observer) {{\n",
       "        var display = window.getComputedStyle(gd).display;\n",
       "        if (!display || display === 'none') {{\n",
       "            console.log([gd, 'removed!']);\n",
       "            Plotly.purge(gd);\n",
       "            observer.disconnect();\n",
       "        }}\n",
       "}});\n",
       "\n",
       "// Listen for the removal of the full notebook cells\n",
       "var notebookContainer = gd.closest('#notebook-container');\n",
       "if (notebookContainer) {{\n",
       "    x.observe(notebookContainer, {childList: true});\n",
       "}}\n",
       "\n",
       "// Listen for the clearing of the current output cell\n",
       "var outputEl = gd.closest('.output');\n",
       "if (outputEl) {{\n",
       "    x.observe(outputEl, {childList: true});\n",
       "}}\n",
       "\n",
       "                        })                };                });            </script>        </div>"
      ]
     },
     "metadata": {},
     "output_type": "display_data"
    }
   ],
   "source": [
    "Hood = ['Higher Percentage of Crime', ' Higher Percentage of Parks']\n",
    "Type = ['High Crime Area Park Rating', 'Low Crime Area Park Rating']\n",
    "Count = [high_crime_low_park[len(high_crime_low_park) - 1]['Average'],low_crime_high_park[len(low_crime_high_park) - 1]['Average']]\n",
    "df =  pd.DataFrame({\n",
    "    \"Percentage of Crime v. Greenspace\": Hood,\n",
    "    \"Type\": Type,\n",
    "    \"Average Park Rating\": Count\n",
    "})\n",
    "fig = px.bar(df, x=\"Percentage of Crime v. Greenspace\", y=\"Average Park Rating\", barmode=\"group\", title=\"Average Park Rating Based on Distribution of Parks and Crime\")\n",
    "fig.show()"
   ]
  },
  {
   "cell_type": "code",
   "execution_count": null,
   "id": "cc1712dc-7035-4473-be93-19a60d9f098c",
   "metadata": {},
   "outputs": [],
   "source": []
  },
  {
   "cell_type": "code",
   "execution_count": null,
   "id": "3cfc0018-22d3-4032-a2d1-8397e1738dbf",
   "metadata": {},
   "outputs": [],
   "source": []
  }
 ],
 "metadata": {
  "kernelspec": {
   "display_name": "Python 3 (ipykernel)",
   "language": "python",
   "name": "python3"
  },
  "language_info": {
   "codemirror_mode": {
    "name": "ipython",
    "version": 3
   },
   "file_extension": ".py",
   "mimetype": "text/x-python",
   "name": "python",
   "nbconvert_exporter": "python",
   "pygments_lexer": "ipython3",
   "version": "3.9.7"
  }
 },
 "nbformat": 4,
 "nbformat_minor": 5
}
