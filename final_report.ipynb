{
 "cells": [
  {
   "cell_type": "markdown",
   "id": "10f53921-466c-4f31-a47a-41fae748778e",
   "metadata": {
    "tags": []
   },
   "source": [
    "![cherry blossoms uw](https://cloudflare1.360gigapixels.com/pano/pnwmf/01657639__Group_1__IMGP6341_IMGP6460_120_images.tif/equirect_crop_3_1/6.jpg)\n",
    "# Access To Nature and Crime\n",
    "An investigation into potential impacts on crime rates of having access to nature across the various neighborhoods within Seattle, Washington.\n",
    "\n",
    "**Presented by: Valerie Remaker**\n",
    "\n",
    "---\n",
    "## Abstract \n",
    "\n",
    "\n",
    "---"
   ]
  },
  {
   "cell_type": "markdown",
   "id": "9addd149-6ba2-4e14-b334-d5617949b8fa",
   "metadata": {
    "tags": []
   },
   "source": [
    "## Introduction & Background\n",
    "People are highly impacted by the envrionment in which they live. We, as humans, are inexplicably drawn to nature. Having access to nature both wild and domesticated has a major impact on our mental health. For example, studies have shown that joggers who exercise in nature feel more restored and have less anxiety,than those who exerise at the gym (Louv, 35). \n",
    "\n",
    "\n",
    "\n",
    "This study uses greenspace specifically focuses on green space and forest areas that are publicly accessible. \n",
    "\n",
    "ias well as their ratings as a proxy for understanding the impact of access to nature in a given neighborhood. This study seeks to work along a similar framework to the broken window thoery which uses the number of broken windows to guague the amount of crime - more broken windows incidates higher rates of crime (Koglmeier). In the literature I reviewed, having greenspace does not automatically reduce crime; instead, these parks need to be well maintained and must not have hidden spots where crime could occur (Green Space and Crime). In the Greenspace database, there is a tier ranking of the parks from 1 - 6 in which 1 is the highest tier and 6 is the lowest tier. This ranking scale could probably be used to mirror the quality of the park and more deeply understand park quality as it relates to crime rates.\n",
    "\n",
    "\n"
   ]
  },
  {
   "cell_type": "markdown",
   "id": "062ca843-4eba-4aef-8a2c-3b9dafb41809",
   "metadata": {},
   "source": [
    "## Research Questions & Hypotheses \n",
    "There are two aspects of the relationship between parks and crime that I am interested in: the number of parks in a neigborhood and the quality of those parks. This focus informs my two research questions. \n",
    "\n",
    "**RQ1:** Do areas with more greenspace have less crime?\n",
    "\n",
    "**H1:** I beleive that there will be less crime in areas with more greenspace. \n",
    "\n",
    "**RQ2:** Does the the quality of parks in the area affect the amount of crime? \n",
    "\n",
    "**H2:** I believe that having higher quality parks will be an indicator of less crime."
   ]
  },
  {
   "cell_type": "markdown",
   "id": "ccbdee16-1a9f-4c7a-a33f-357da803b07e",
   "metadata": {},
   "source": [
    "## Methods\n",
    "Listed below are the steps that I took during my data analysis. To look at the code, take a look at 'Calculations.ipynb'\n",
    "\n",
    "**Section 1 - Calling The APIs & Sorting Data** \n",
    "\n",
    "0. Import all needed libraries, and sets up api endpoints and limits\n",
    "1. Query the Seattle Neighborhood Database and create a dictionary 'hood_counts' to track the data that I want for each of the neighborhoods. This is primarily concerned with: location of the neighorhood, number of parks, park rating, the average park rating in the neighborhood, and the number of crimes.   \n",
    "2. Query the Seattle Public Spaces Database and check the location of each public space against the neigbhorhoods using geodata. Qualifying parks will be public, open, and have either greenspace or forest areas. Then, the data about the greenspace will be added to the 'hood_counts' dictionary at the appropriate spot.\n",
    "3. Query the Seattle Crime Database and checks the location of each crime incient against the neighborhoods using geodata. Qualifying crime will be done within the last 5 years (2017 - 2022). Then, the data about the crimes will be added to the 'hood_counts' dictionary at the appropriate spot. \n",
    "\n",
    "\n",
    "**RQ1: Do areas with more greenspace have less crime?**\n",
    "1. Compare the percentage of of parks in a given neighborhood to the percentage of crime within a given neighborhood\n",
    "2. Compare the percentage of of parks in a given neighborhood to the percentage of crime within a given neighborhood. This step focuses solely on the neighborhoods in which the percentage of crime is higher than the percentage of parks.\n",
    "3. Compare the percentage of of parks in a given neighborhood to the percentage of crime within a given neighborhood. This step focuses solely on the neighborhoods in which the percentage of parks is higher than the percentage of crime.\n",
    "\n",
    "**RQ2: Does the the quality of the parks available in the area affect the amount of crime?**  \n",
    "1. Compare the average park rating across all the neighborhoods in which the percentage of parks was higher than the percentage of crime, and compares it to the average park rating across all the neighborhoods in wich the percentage of crime is higher than the percentage of crime. \n",
    "\n"
   ]
  },
  {
   "cell_type": "markdown",
   "id": "8ce421a2-3a92-423e-9dc7-6872586db0d3",
   "metadata": {
    "jp-MarkdownHeadingCollapsed": true,
    "tags": []
   },
   "source": [
    "## Findings\n",
    "Below you can find the graphs created during the data analysis process. \n",
    "\n",
    "**RQ1: Do areas with more greenspace have less crime?**\n",
    "Because there are far more crime than parks, this comparison was broken down to look at the percentage of overall parks and crime within a specific neighborhood. \n",
    "![](all_hoods_compare.png)\n",
    "As shown in 'Neighborhood Breakdown: Percentage of Overall Crime and Parks' chart, we have a mix of neighborhoods in which the percentage of crime is higher than the percentage of parks and vice versa. This seems to indiciate that the number of parks might possibly have an impact on the amount of crime.\n",
    "\n",
    "\n",
    "The next two charts make the same comparison of percentages of crime and parks, but groups them together by whether there was a higher percentage of parks, or crime. \n",
    "\n",
    "In this chart, we look at the neighborhoods where there is more crime.\n",
    "![](high_park.png)\n",
    "In this chart, most neighborhoods have under 3% of the parks in Seattle. There are two exception of note. First, there is Capitol Hill, which has about 6% of the parks, and Queen Anne which has about 4% of parks. \n",
    "We also see that most neighborhoods have at least 3.7% of the crime in Seattle. The one exception to this is Interbay, which has .75% of crime, but it also has a very low number of parks, so it is probably just a small area. \n",
    "\n",
    "In this chart, we look at the neighborhoods where there are more parks. \n",
    "![](high_crime.png)\n",
    "In this chart, most neighborhoods have over 3% of the parks in Seattle and 8 of these neighborhoods had over 5% of the parks . The exception to this is Seward park, which has 2.7% of the parks, but again, this could be due to the size of the area. \n",
    "The crime in the areas with more parks is    \n",
    "\n",
    "**RQ2: Does the the quality of parks in the area affect the amount of crime?** \n",
    "Within the neigborhood divide between \n",
    "![](average_park_rating.png)"
   ]
  },
  {
   "cell_type": "markdown",
   "id": "99c3c0c6-cdb8-4e68-ac30-deaf60873376",
   "metadata": {},
   "source": [
    "## Disucssion"
   ]
  },
  {
   "cell_type": "markdown",
   "id": "8c98fc05-73b3-47ef-b2ca-a7d56dc26487",
   "metadata": {},
   "source": [
    "## Conclusion "
   ]
  },
  {
   "cell_type": "markdown",
   "id": "141306c0-a08f-42c2-abb0-5e5b3dce169e",
   "metadata": {
    "tags": []
   },
   "source": [
    "## Citations \n",
    "\n",
    "Green Space and crime. Cornell College of Human Ecology. (n.d.). Retrieved May 11, 2022, from https://www.human.cornell.edu/dea/spotlights/green-space-and-crime \n",
    "\n",
    "Koglmeier, E. (2017, July 31). Can public art reduce crime? expert interview with Ben Sandberg. Public Art Archive. Retrieved May 10, 2022, from https://www.publicartarchive.org/2017/07/31/can-public-art-reduce-crime-expert-interview/ \n",
    "\n",
    "Louv, R. (2005). Last child in the woods: Saving our children from nature-deficit disorder (pp. 1-36; 48-54). Chapel Hill, NC: Algonquin.\n",
    "\n",
    "Ross, C. (n.d.). Examining the ways arts and culture intersect with public safety. Retrieved May 11, 2022, from https://www.urban.org/sites/default/files/publication/79271/2000725-Examining-the-Ways-Arts-and-Culture-Intersect-with-Public-Safety.pdf \n",
    "\n",
    "Cover Image Courtesy of https://www.360cities.net/image/2018-uw-quad-cherry-blossoms-usa\n"
   ]
  },
  {
   "cell_type": "code",
   "execution_count": null,
   "id": "7c073264-079c-4c0a-ba65-e0f82e366067",
   "metadata": {},
   "outputs": [],
   "source": []
  },
  {
   "cell_type": "raw",
   "id": "e1edf74c-6158-4d09-ada4-f9e3009d3e26",
   "metadata": {},
   "source": []
  }
 ],
 "metadata": {
  "kernelspec": {
   "display_name": "Python 3 (ipykernel)",
   "language": "python",
   "name": "python3"
  },
  "language_info": {
   "codemirror_mode": {
    "name": "ipython",
    "version": 3
   },
   "file_extension": ".py",
   "mimetype": "text/x-python",
   "name": "python",
   "nbconvert_exporter": "python",
   "pygments_lexer": "ipython3",
   "version": "3.9.7"
  }
 },
 "nbformat": 4,
 "nbformat_minor": 5
}
