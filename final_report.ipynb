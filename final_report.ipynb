{
 "cells": [
  {
   "cell_type": "markdown",
   "id": "10f53921-466c-4f31-a47a-41fae748778e",
   "metadata": {
    "tags": []
   },
   "source": [
    "![cherry blossoms uw](https://cloudflare1.360gigapixels.com/pano/pnwmf/01657639__Group_1__IMGP6341_IMGP6460_120_images.tif/equirect_crop_3_1/6.jpg)\n",
    "# Access To Nature and Crime\n",
    "An investigation into potential impacts of neighborood nature on crime across the various neighborhoods within Seattle, Washington.\n",
    "\n",
    "**Presented by: Valerie Remaker**\n",
    "\n",
    "---\n",
    "## Abstract \n",
    "[some lorum bs] \n",
    "\n",
    "---"
   ]
  },
  {
   "cell_type": "markdown",
   "id": "9addd149-6ba2-4e14-b334-d5617949b8fa",
   "metadata": {
    "tags": []
   },
   "source": [
    "## Introduction \n",
    "People are highly impacted by the envrionment in which they live. Because we are human and we are inexplicably drawn to nature, being able to go into nature has a major impact on our mental health. Studies have shown that joggers who exercise in nature feel more restored and have less anxiety,than those who exerise at the gym (Louv, 35). Unfortunately, there are a lot of factors which work against our access to nature\n",
    "\n",
    "I plan to use three databases from the seattle open data api. The following datasets will be the focus of my project: \n",
    "- [**SPD Crime Data 2008 - Present**](https://data.seattle.gov/Public-Safety/SPD-Crime-Data-2008-Present/tazs-3rd5) which tracks the crime in Seattle. This is to discovery what the crime rates are like, and what times of crime happen in which neighborhoods. Is there any correlation to the type of art and type of crime? Or amount of art/cutlure and amount of crime? I will be focusing on data from after 2017, to focus on the last 5 years of crime in the Seattle Area\n",
    "- [**Seattle Public Spaces**](https://data-seattlecitygis.opendata.arcgis.com/datasets/SeattleCityGIS::publicspaceseattle-entrypts/explore?location=47.611555%2C-122.355840%2C11.46) which is an overview of parks in Seattle which are open to the public and contain more information about what activites are present there. \n",
    "- [**Seattle Neighborhood**](https://data-seattlecitygis.opendata.arcgis.com/datasets/SeattleCityGIS::city-clerk-neighborhoods/about) a database that gives the geo coordinates for the different neighborhoods within Seattle   \n"
   ]
  },
  {
   "cell_type": "markdown",
   "id": "3ae2e300-fc89-415b-b34c-90088b48b853",
   "metadata": {},
   "source": [
    "## Background\n",
    "This study uses greenspace specificallly those marked as 'greenspace' and 'forest areas' as well as their ratings as a proxy for understanding the impact of access to nature in a given neighborhood. This study seeks to work along a similar framework to the broken window thoery which uses the number of broken windows to guague the amount of crime - more broken windows incidates higher rates of crime (Koglmeier). In the literature I reviewed, having greenspace does not automatically reduce crime; instead, these parks need to be well maintained and must not have hidden spots where crime could occur (Green Space and Crime). In the Greenspace database, there is a tier ranking of the parks from 1 - 6 in which 1 is the highest tier and 6 is the lowest tier. This ranking scale could probably be used to mirror the quality of the park and more deeply understand park quality as it relates to crime rates.\n",
    "\n",
    "Across all of the literature that I reviewed, a key factor in the effectiveness of natural spaces within neigborhoods is  is making these public spaces effective is the need for a human centered approach with community engagement during the erection of these institutions (Koglmeier,Green Space and Crime, Ross). It is the human centered involvment in the arts programs that makes the connection and difference in these harm reduction programs. These spaces are not  a means to an end in an of it self, but a proxy for community engagement (Ross). This poses a difficult question within my research in which the ways in which the databases I choose do not really include data about community invovlement within these spaces. \n",
    "\n"
   ]
  },
  {
   "cell_type": "markdown",
   "id": "062ca843-4eba-4aef-8a2c-3b9dafb41809",
   "metadata": {},
   "source": [
    "## Research Questions & Hypotheses \n",
    "**RQ1:** Do areas with more greenspace have less crime?\n",
    "\n",
    "**H1:** I beleive that there will be less crime in areas with more greenspace. \n",
    "\n",
    "**RQ2:** Does the the quality of parks in the area affect the amount of crime? \n",
    "\n",
    "**H2:** I believe that having higher quality parks will be an indicator of less crime."
   ]
  },
  {
   "cell_type": "markdown",
   "id": "ccbdee16-1a9f-4c7a-a33f-357da803b07e",
   "metadata": {},
   "source": [
    "## Methods\n",
    "**All Data** \n",
    "\n",
    "0. Import all needed libraries, and sets up api endpoints and limits\n",
    "1. Query the Seattle Neighborhood Database and create a dictionary 'hood_count' to track the data that I want for each of the neighborhoods. This is primarily concerned with: location of the neighorhood, park rating, average_park_rating, number of parks, number of crimes, common types of crime.  \n",
    "2. Query the Seattle Public Spaces Database and check the location of each public space against the neigbhorhoods using geodata. Qualifying parks will be public, open, and have either greenspace or forest areas. Then, the data about the greenspace will be added to the 'hood_counts' dictionary at the appropriate spot.\n",
    "3. Query the Seattle Crime Database and checks the location of each crime incient against the neighborhoods using geodata. Qualifying crime will be done within the last 5 years (2017 - 2022). Then, the data about the crimes will be added to the 'hood_counts' dictionary at the appropriate spot. \n",
    "\n",
    "\n",
    "**RQ1: Do areas with more greenspace have less crime?**\n",
    "1.  \n",
    "\n",
    "**RQ2: Does the the quality of the parks available in the area affect the amount of crime?**  \n",
    "1. \n",
    "\n"
   ]
  },
  {
   "cell_type": "markdown",
   "id": "8ce421a2-3a92-423e-9dc7-6872586db0d3",
   "metadata": {},
   "source": [
    "## Findings"
   ]
  },
  {
   "cell_type": "markdown",
   "id": "99c3c0c6-cdb8-4e68-ac30-deaf60873376",
   "metadata": {},
   "source": [
    "## Disucssion"
   ]
  },
  {
   "cell_type": "markdown",
   "id": "8c98fc05-73b3-47ef-b2ca-a7d56dc26487",
   "metadata": {},
   "source": [
    "## Conclusion "
   ]
  },
  {
   "cell_type": "markdown",
   "id": "141306c0-a08f-42c2-abb0-5e5b3dce169e",
   "metadata": {
    "tags": []
   },
   "source": [
    "## Citations \n",
    "\n",
    "Green Space and crime. Cornell College of Human Ecology. (n.d.). Retrieved May 11, 2022, from https://www.human.cornell.edu/dea/spotlights/green-space-and-crime \n",
    "\n",
    "Koglmeier, E. (2017, July 31). Can public art reduce crime? expert interview with Ben Sandberg. Public Art Archive. Retrieved May 10, 2022, from https://www.publicartarchive.org/2017/07/31/can-public-art-reduce-crime-expert-interview/ \n",
    "\n",
    "Ross, C. (n.d.). Examining the ways arts and culture intersect with public safety. Retrieved May 11, 2022, from https://www.urban.org/sites/default/files/publication/79271/2000725-Examining-the-Ways-Arts-and-Culture-Intersect-with-Public-Safety.pdf \n",
    "\n",
    "Cover Image Courtesy of https://www.360cities.net/image/2018-uw-quad-cherry-blossoms-usa\n"
   ]
  },
  {
   "cell_type": "code",
   "execution_count": null,
   "id": "4a80cf57-c87a-40f1-9db5-115912ae65ef",
   "metadata": {},
   "outputs": [],
   "source": []
  }
 ],
 "metadata": {
  "kernelspec": {
   "display_name": "Python 3 (ipykernel)",
   "language": "python",
   "name": "python3"
  },
  "language_info": {
   "codemirror_mode": {
    "name": "ipython",
    "version": 3
   },
   "file_extension": ".py",
   "mimetype": "text/x-python",
   "name": "python",
   "nbconvert_exporter": "python",
   "pygments_lexer": "ipython3",
   "version": "3.9.7"
  }
 },
 "nbformat": 4,
 "nbformat_minor": 5
}
